{
 "cells": [
  {
   "cell_type": "markdown",
   "id": "449546f2",
   "metadata": {},
   "source": [
    "Instructions\n",
    "\n",
    "It is assumed that the mean systolic blood pressure is μ = 120 mm Hg. In the Honolulu Heart Study, a sample of n = 100 people had an average systolic blood pressure of 130.1 mm Hg with a standard deviation of 21.21 mm Hg. Is the group significantly different (with respect to systolic blood pressure!) from the regular population?\n",
    "\n",
    "- Set up the hypothesis test.\n",
    "- Write down all the steps followed for setting up the test.\n",
    "- Calculate the test statistic by hand and also code it in Python. It should be 4.76190. What decision can you make based on this calculated value?\n",
    "\n",
    "Hint: statistic table t_student"
   ]
  },
  {
   "cell_type": "code",
   "execution_count": 1,
   "id": "def0a49a",
   "metadata": {},
   "outputs": [],
   "source": [
    "import numpy as np\n",
    "import pandas as pd\n",
    "import scipy.stats as stats\n",
    "import matplotlib.pyplot as plt\n",
    "import seaborn as sns\n",
    "\n",
    "%matplotlib inline"
   ]
  },
  {
   "cell_type": "code",
   "execution_count": 2,
   "id": "54aafbee",
   "metadata": {},
   "outputs": [],
   "source": [
    "# H0: μ = 120\n",
    "# H1: μ != 120 "
   ]
  },
  {
   "cell_type": "code",
   "execution_count": 3,
   "id": "a28041da",
   "metadata": {},
   "outputs": [],
   "source": [
    "samp_size = 100\n",
    "pop_mean = 120\n",
    "sam_mean = 130.1\n",
    "sam_sdt = 21.21"
   ]
  },
  {
   "cell_type": "code",
   "execution_count": 4,
   "id": "642cf24b",
   "metadata": {},
   "outputs": [
    {
     "data": {
      "text/plain": [
       "2.121"
      ]
     },
     "execution_count": 4,
     "metadata": {},
     "output_type": "execute_result"
    }
   ],
   "source": [
    "sem = 21.21/np.sqrt(samp_size)\n",
    "sem"
   ]
  },
  {
   "cell_type": "code",
   "execution_count": 5,
   "id": "cdc3a86c",
   "metadata": {},
   "outputs": [
    {
     "name": "stdout",
     "output_type": "stream",
     "text": [
      "The t score of our sample is: 4.76\n"
     ]
    }
   ],
   "source": [
    "t = (sam_mean-pop_mean)/sem\n",
    "print(\"The t score of our sample is: {:.2f}\".format(t))"
   ]
  },
  {
   "cell_type": "markdown",
   "id": "2bb6010b",
   "metadata": {},
   "source": [
    "Let's fix our confidence level to 95% which is the same as saying alpha = 1 - 0.95 = 0.05"
   ]
  },
  {
   "cell_type": "code",
   "execution_count": 6,
   "id": "79829189",
   "metadata": {},
   "outputs": [
    {
     "name": "stdout",
     "output_type": "stream",
     "text": [
      "H0 is rejected, therefore, the group is statistically significant different from the population\n"
     ]
    }
   ],
   "source": [
    "# t_value for 99 degrees of freedom and 0.025 tow sided test: 1.984\n",
    "t_value = 1.984\n",
    "if t > t_value:\n",
    "    print ('H0 is rejected, therefore, the group is statistically significant different from the population')\n",
    "else:\n",
    "    print ('H0 is not rejected, the group is not statistically significant different from the population')"
   ]
  },
  {
   "cell_type": "markdown",
   "id": "0ae4cd4b",
   "metadata": {},
   "source": [
    "Optional\n",
    "\n",
    "In a packing plant, a machine packs cartons with jars. It is supposed that a new machine will pack faster on the average than the machine currently used. To test that hypothesis, the times it takes each machine to pack ten cartons are recorded. The results, in seconds, are shown in the tables in the file Data/machine.txt. Assume that there is sufficient evidence to conduct the t test, does the data provide sufficient evidence to show if one machine is better than the other.\n",
    "Hint: use two sample t-test\n",
    "\n",
    "t= (sample_mean(x1) - sample_mean(x2)) / sqrt(square(s1)/n1 + square(s2)/n2 )"
   ]
  },
  {
   "cell_type": "code",
   "execution_count": 7,
   "id": "0b01f5bb",
   "metadata": {},
   "outputs": [
    {
     "data": {
      "text/html": [
       "<div>\n",
       "<style scoped>\n",
       "    .dataframe tbody tr th:only-of-type {\n",
       "        vertical-align: middle;\n",
       "    }\n",
       "\n",
       "    .dataframe tbody tr th {\n",
       "        vertical-align: top;\n",
       "    }\n",
       "\n",
       "    .dataframe thead th {\n",
       "        text-align: right;\n",
       "    }\n",
       "</style>\n",
       "<table border=\"1\" class=\"dataframe\">\n",
       "  <thead>\n",
       "    <tr style=\"text-align: right;\">\n",
       "      <th></th>\n",
       "      <th>New Machine</th>\n",
       "      <th>Old Machine</th>\n",
       "    </tr>\n",
       "  </thead>\n",
       "  <tbody>\n",
       "    <tr>\n",
       "      <th>0</th>\n",
       "      <td>42.1</td>\n",
       "      <td>42.7</td>\n",
       "    </tr>\n",
       "    <tr>\n",
       "      <th>1</th>\n",
       "      <td>41.0</td>\n",
       "      <td>43.6</td>\n",
       "    </tr>\n",
       "    <tr>\n",
       "      <th>2</th>\n",
       "      <td>41.3</td>\n",
       "      <td>43.8</td>\n",
       "    </tr>\n",
       "    <tr>\n",
       "      <th>3</th>\n",
       "      <td>41.8</td>\n",
       "      <td>43.3</td>\n",
       "    </tr>\n",
       "    <tr>\n",
       "      <th>4</th>\n",
       "      <td>42.4</td>\n",
       "      <td>42.5</td>\n",
       "    </tr>\n",
       "    <tr>\n",
       "      <th>5</th>\n",
       "      <td>42.8</td>\n",
       "      <td>43.5</td>\n",
       "    </tr>\n",
       "    <tr>\n",
       "      <th>6</th>\n",
       "      <td>43.2</td>\n",
       "      <td>43.1</td>\n",
       "    </tr>\n",
       "    <tr>\n",
       "      <th>7</th>\n",
       "      <td>42.3</td>\n",
       "      <td>41.7</td>\n",
       "    </tr>\n",
       "    <tr>\n",
       "      <th>8</th>\n",
       "      <td>41.8</td>\n",
       "      <td>44.0</td>\n",
       "    </tr>\n",
       "    <tr>\n",
       "      <th>9</th>\n",
       "      <td>42.7</td>\n",
       "      <td>44.1</td>\n",
       "    </tr>\n",
       "  </tbody>\n",
       "</table>\n",
       "</div>"
      ],
      "text/plain": [
       "   New Machine    Old Machine\n",
       "0         42.1           42.7\n",
       "1         41.0           43.6\n",
       "2         41.3           43.8\n",
       "3         41.8           43.3\n",
       "4         42.4           42.5\n",
       "5         42.8           43.5\n",
       "6         43.2           43.1\n",
       "7         42.3           41.7\n",
       "8         41.8           44.0\n",
       "9         42.7           44.1"
      ]
     },
     "execution_count": 7,
     "metadata": {},
     "output_type": "execute_result"
    }
   ],
   "source": [
    "machines_df = pd.read_csv('Data_machine.txt', sep='\\t')\n",
    "machines_df"
   ]
  },
  {
   "cell_type": "code",
   "execution_count": 8,
   "id": "7a0ff0fa",
   "metadata": {},
   "outputs": [
    {
     "data": {
      "text/html": [
       "<div>\n",
       "<style scoped>\n",
       "    .dataframe tbody tr th:only-of-type {\n",
       "        vertical-align: middle;\n",
       "    }\n",
       "\n",
       "    .dataframe tbody tr th {\n",
       "        vertical-align: top;\n",
       "    }\n",
       "\n",
       "    .dataframe thead th {\n",
       "        text-align: right;\n",
       "    }\n",
       "</style>\n",
       "<table border=\"1\" class=\"dataframe\">\n",
       "  <thead>\n",
       "    <tr style=\"text-align: right;\">\n",
       "      <th></th>\n",
       "      <th>new_machine</th>\n",
       "      <th>old_machine</th>\n",
       "    </tr>\n",
       "  </thead>\n",
       "  <tbody>\n",
       "    <tr>\n",
       "      <th>0</th>\n",
       "      <td>42.1</td>\n",
       "      <td>42.7</td>\n",
       "    </tr>\n",
       "    <tr>\n",
       "      <th>1</th>\n",
       "      <td>41.0</td>\n",
       "      <td>43.6</td>\n",
       "    </tr>\n",
       "    <tr>\n",
       "      <th>2</th>\n",
       "      <td>41.3</td>\n",
       "      <td>43.8</td>\n",
       "    </tr>\n",
       "    <tr>\n",
       "      <th>3</th>\n",
       "      <td>41.8</td>\n",
       "      <td>43.3</td>\n",
       "    </tr>\n",
       "    <tr>\n",
       "      <th>4</th>\n",
       "      <td>42.4</td>\n",
       "      <td>42.5</td>\n",
       "    </tr>\n",
       "    <tr>\n",
       "      <th>5</th>\n",
       "      <td>42.8</td>\n",
       "      <td>43.5</td>\n",
       "    </tr>\n",
       "    <tr>\n",
       "      <th>6</th>\n",
       "      <td>43.2</td>\n",
       "      <td>43.1</td>\n",
       "    </tr>\n",
       "    <tr>\n",
       "      <th>7</th>\n",
       "      <td>42.3</td>\n",
       "      <td>41.7</td>\n",
       "    </tr>\n",
       "    <tr>\n",
       "      <th>8</th>\n",
       "      <td>41.8</td>\n",
       "      <td>44.0</td>\n",
       "    </tr>\n",
       "    <tr>\n",
       "      <th>9</th>\n",
       "      <td>42.7</td>\n",
       "      <td>44.1</td>\n",
       "    </tr>\n",
       "  </tbody>\n",
       "</table>\n",
       "</div>"
      ],
      "text/plain": [
       "   new_machine  old_machine\n",
       "0         42.1         42.7\n",
       "1         41.0         43.6\n",
       "2         41.3         43.8\n",
       "3         41.8         43.3\n",
       "4         42.4         42.5\n",
       "5         42.8         43.5\n",
       "6         43.2         43.1\n",
       "7         42.3         41.7\n",
       "8         41.8         44.0\n",
       "9         42.7         44.1"
      ]
     },
     "execution_count": 8,
     "metadata": {},
     "output_type": "execute_result"
    }
   ],
   "source": [
    "machines_df = machines_df.rename(columns={'New Machine':'new_machine','  Old Machine':'old_machine'})\n",
    "machines_df"
   ]
  },
  {
   "cell_type": "code",
   "execution_count": 9,
   "id": "3fa4838a",
   "metadata": {},
   "outputs": [],
   "source": [
    "# H0: μ1 = μ2\n",
    "# H1: μ1 != μ2 "
   ]
  },
  {
   "cell_type": "code",
   "execution_count": 10,
   "id": "906d0ae2",
   "metadata": {},
   "outputs": [
    {
     "name": "stdout",
     "output_type": "stream",
     "text": [
      "43.230000000000004 42.14 0.7498888806572157 0.6834552736727638\n"
     ]
    }
   ],
   "source": [
    "ss = 10\n",
    "mean1 = machines_df['old_machine'].mean()\n",
    "mean2 = machines_df['new_machine'].mean()\n",
    "std1 = machines_df['old_machine'].std()\n",
    "std2 = machines_df['new_machine'].std()\n",
    "print(mean1, mean2, std1, std2)"
   ]
  },
  {
   "cell_type": "code",
   "execution_count": 11,
   "id": "0cbeb898",
   "metadata": {},
   "outputs": [
    {
     "data": {
      "text/plain": [
       "2"
      ]
     },
     "execution_count": 11,
     "metadata": {},
     "output_type": "execute_result"
    }
   ],
   "source": [
    "t2 = ((mean1) - (mean2)) / np.sqrt(((std1**2)/ss) + ((std2**2)/ss) )\n",
    "2"
   ]
  },
  {
   "cell_type": "code",
   "execution_count": 12,
   "id": "000927bb",
   "metadata": {},
   "outputs": [
    {
     "name": "stdout",
     "output_type": "stream",
     "text": [
      "H0 is rejected, therefore, both machines performe equally\n"
     ]
    }
   ],
   "source": [
    "# t_value for 18 (10+10-2) degrees of freedom and 0.025 tow sided test: 2.060\n",
    "t_value2 = 2.060\n",
    "if t2 > t_value2:\n",
    "    print ('H0 is rejected, therefore, both machines performe equally')\n",
    "else:\n",
    "    print ('H0 is not rejected, one machine is better than the other ')"
   ]
  },
  {
   "cell_type": "code",
   "execution_count": null,
   "id": "61643caf",
   "metadata": {},
   "outputs": [],
   "source": []
  }
 ],
 "metadata": {
  "kernelspec": {
   "display_name": "Python 3 (ipykernel)",
   "language": "python",
   "name": "python3"
  },
  "language_info": {
   "codemirror_mode": {
    "name": "ipython",
    "version": 3
   },
   "file_extension": ".py",
   "mimetype": "text/x-python",
   "name": "python",
   "nbconvert_exporter": "python",
   "pygments_lexer": "ipython3",
   "version": "3.9.13"
  }
 },
 "nbformat": 4,
 "nbformat_minor": 5
}

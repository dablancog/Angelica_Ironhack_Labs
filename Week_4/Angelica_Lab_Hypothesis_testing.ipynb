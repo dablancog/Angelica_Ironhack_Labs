{
 "cells": [
  {
   "cell_type": "markdown",
   "id": "449546f2",
   "metadata": {},
   "source": [
    "Instructions\n",
    "\n",
    "It is assumed that the mean systolic blood pressure is μ = 120 mm Hg. In the Honolulu Heart Study, a sample of n = 100 people had an average systolic blood pressure of 130.1 mm Hg with a standard deviation of 21.21 mm Hg. Is the group significantly different (with respect to systolic blood pressure!) from the regular population?\n",
    "\n",
    "- Set up the hypothesis test.\n",
    "- Write down all the steps followed for setting up the test.\n",
    "- Calculate the test statistic by hand and also code it in Python. It should be 4.76190. What decision can you make based on this calculated value?\n",
    "\n",
    "Hint: statistic table t_student"
   ]
  },
  {
   "cell_type": "code",
   "execution_count": 1,
   "id": "def0a49a",
   "metadata": {},
   "outputs": [],
   "source": [
    "import numpy as np\n",
    "import pandas as pd\n",
    "import scipy.stats as stats\n",
    "import matplotlib.pyplot as plt\n",
    "import seaborn as sns\n",
    "\n",
    "%matplotlib inline"
   ]
  },
  {
   "cell_type": "code",
   "execution_count": 2,
   "id": "54aafbee",
   "metadata": {},
   "outputs": [],
   "source": [
    "# H0: μ = 120\n",
    "# H1: μ != 120 "
   ]
  },
  {
   "cell_type": "code",
   "execution_count": 3,
   "id": "a28041da",
   "metadata": {},
   "outputs": [],
   "source": [
    "samp_size = 100\n",
    "pop_mean = 120\n",
    "sam_mean = 130.1\n",
    "sam_sdt = 21.21"
   ]
  },
  {
   "cell_type": "code",
   "execution_count": 4,
   "id": "642cf24b",
   "metadata": {},
   "outputs": [
    {
     "data": {
      "text/plain": [
       "2.121"
      ]
     },
     "execution_count": 4,
     "metadata": {},
     "output_type": "execute_result"
    }
   ],
   "source": [
    "sem = 21.21/np.sqrt(samp_size)\n",
    "sem"
   ]
  },
  {
   "cell_type": "code",
   "execution_count": 5,
   "id": "cdc3a86c",
   "metadata": {},
   "outputs": [
    {
     "name": "stdout",
     "output_type": "stream",
     "text": [
      "The t score of our sample is: 4.76\n"
     ]
    }
   ],
   "source": [
    "t = (sam_mean-pop_mean)/sem\n",
    "print(\"The t score of our sample is: {:.2f}\".format(t))"
   ]
  },
  {
   "cell_type": "markdown",
   "id": "2bb6010b",
   "metadata": {},
   "source": [
    "Let's fix our confidence level to 95% which is the same as saying alpha = 1 - 0.95 = 0.05"
   ]
  },
  {
   "cell_type": "code",
   "execution_count": 7,
   "id": "79829189",
   "metadata": {},
   "outputs": [
    {
     "name": "stdout",
     "output_type": "stream",
     "text": [
      "H0 is not rejected, the group is not statistically significant different from the population\n"
     ]
    }
   ],
   "source": [
    "# t_value for 99 degrees of freedom and 0.05 tow sided test: 1.984\n",
    "t_value = 1.984\n",
    "if t < t_value:\n",
    "    print ('H0 is rejected, therefore, the group is statistically significant different from the population')\n",
    "else:\n",
    "    print ('H0 is not rejected, the group is not statistically significant different from the population')"
   ]
  },
  {
   "cell_type": "code",
   "execution_count": null,
   "id": "097dfa89",
   "metadata": {},
   "outputs": [],
   "source": []
  }
 ],
 "metadata": {
  "kernelspec": {
   "display_name": "Python 3 (ipykernel)",
   "language": "python",
   "name": "python3"
  },
  "language_info": {
   "codemirror_mode": {
    "name": "ipython",
    "version": 3
   },
   "file_extension": ".py",
   "mimetype": "text/x-python",
   "name": "python",
   "nbconvert_exporter": "python",
   "pygments_lexer": "ipython3",
   "version": "3.9.13"
  }
 },
 "nbformat": 4,
 "nbformat_minor": 5
}

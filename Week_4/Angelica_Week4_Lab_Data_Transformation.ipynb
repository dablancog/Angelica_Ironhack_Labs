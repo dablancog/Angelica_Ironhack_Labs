{
 "cells": [
  {
   "cell_type": "markdown",
   "id": "1b5c753a",
   "metadata": {},
   "source": [
    "## Tasks\n",
    "\n",
    "Hint: use the file  Data_Marketing_Customer_Analysis_Round3.csv\n",
    "\n",
    "- check if there are highly correlated features and drop them if there are any.\n",
    "- One Hot/Label Encoding of the categorical variables in the categoricals data frame that you created in Activity 3. ( Hint: check Dropfirst option).\n",
    "- for the first iteration, we will focus on the numericals data (numericals data frame) as our data source.\n",
    "\n",
    "### (Optional Task)\n",
    "\n",
    "Begin by visually examining distributions (histograms) of the numerical features. Select a variable, call it varA, which takes on a wide range of numerical values, and another, varB, which has a noticeably large skew. For example, you might select customer_lifetime_value as a candidate varB which has skew.\n",
    "\n",
    "#### varA\n",
    "- Use minmax transform to bring varA's values into the range [0,1].\n",
    "- Check that varA has been rescaled using a distplot or a histogram\n",
    "\n",
    "#### varB\n",
    "- Use StandardScaler or PowerTransform to reduce the skew and standardize varB's distribution.\n",
    "- Check that the result has zero mean, unit variance, and reduced skew using mean(), std(), and a plot of the PDF.\n",
    "\n",
    "#### Hints:\n",
    "\n",
    "1. Import transformers from the sklearn library from sklearn.preprocessing import PowerTransformer, StandardScaler, minmax_scale\n",
    "- To reduce the skew and standardize a column, the PowerTransformer from sklearn has two options (box-cox and yeo-johnson). Try both and contrast the results.\n",
    "- To rescale the column, use the minmax_scale transform.\n",
    "2. Format the column correctly for the transformer. The sklearn transformers expect numpy.ndarrary object types as input. To take a pandas column and transform it into the correct form for PowerTransform and minmax_scaler use the to_numpy() and reshape(-1,1) methods."
   ]
  },
  {
   "cell_type": "code",
   "execution_count": 1,
   "id": "2d22e0df",
   "metadata": {},
   "outputs": [],
   "source": [
    "import pandas as pd\n",
    "import numpy as np\n",
    "import matplotlib.pyplot as plt\n",
    "import seaborn as sns\n",
    "%matplotlib inline\n",
    "import warnings\n",
    "warnings.filterwarnings('ignore')"
   ]
  },
  {
   "cell_type": "code",
   "execution_count": 2,
   "id": "34a30d3e",
   "metadata": {},
   "outputs": [
    {
     "data": {
      "text/html": [
       "<div>\n",
       "<style scoped>\n",
       "    .dataframe tbody tr th:only-of-type {\n",
       "        vertical-align: middle;\n",
       "    }\n",
       "\n",
       "    .dataframe tbody tr th {\n",
       "        vertical-align: top;\n",
       "    }\n",
       "\n",
       "    .dataframe thead th {\n",
       "        text-align: right;\n",
       "    }\n",
       "</style>\n",
       "<table border=\"1\" class=\"dataframe\">\n",
       "  <thead>\n",
       "    <tr style=\"text-align: right;\">\n",
       "      <th></th>\n",
       "      <th>region</th>\n",
       "      <th>customer_lifetime_value</th>\n",
       "      <th>response</th>\n",
       "      <th>coverage</th>\n",
       "      <th>education</th>\n",
       "      <th>effective_to_date</th>\n",
       "      <th>month</th>\n",
       "      <th>employment_status</th>\n",
       "      <th>gender</th>\n",
       "      <th>income</th>\n",
       "      <th>...</th>\n",
       "      <th>months_since_policy_inception</th>\n",
       "      <th>number_of_open_complaints</th>\n",
       "      <th>number_of_policies</th>\n",
       "      <th>policy_type</th>\n",
       "      <th>policy</th>\n",
       "      <th>renew_offer_type</th>\n",
       "      <th>sales_channel</th>\n",
       "      <th>total_claim_amount</th>\n",
       "      <th>vehicle_class</th>\n",
       "      <th>vehicle_size</th>\n",
       "    </tr>\n",
       "  </thead>\n",
       "  <tbody>\n",
       "    <tr>\n",
       "      <th>0</th>\n",
       "      <td>central</td>\n",
       "      <td>4809</td>\n",
       "      <td>no</td>\n",
       "      <td>basic</td>\n",
       "      <td>college</td>\n",
       "      <td>2/18/11</td>\n",
       "      <td>feb</td>\n",
       "      <td>employed</td>\n",
       "      <td>m</td>\n",
       "      <td>48029</td>\n",
       "      <td>...</td>\n",
       "      <td>52</td>\n",
       "      <td>0</td>\n",
       "      <td>9</td>\n",
       "      <td>corporate auto</td>\n",
       "      <td>corporate l3</td>\n",
       "      <td>offer3</td>\n",
       "      <td>agent</td>\n",
       "      <td>292</td>\n",
       "      <td>four-door car</td>\n",
       "      <td>medsize</td>\n",
       "    </tr>\n",
       "    <tr>\n",
       "      <th>1</th>\n",
       "      <td>west region</td>\n",
       "      <td>2228</td>\n",
       "      <td>no</td>\n",
       "      <td>basic</td>\n",
       "      <td>college</td>\n",
       "      <td>1/18/11</td>\n",
       "      <td>jan</td>\n",
       "      <td>unemployed</td>\n",
       "      <td>f</td>\n",
       "      <td>92260</td>\n",
       "      <td>...</td>\n",
       "      <td>26</td>\n",
       "      <td>0</td>\n",
       "      <td>1</td>\n",
       "      <td>personal auto</td>\n",
       "      <td>personal l3</td>\n",
       "      <td>offer4</td>\n",
       "      <td>call center</td>\n",
       "      <td>744</td>\n",
       "      <td>four-door car</td>\n",
       "      <td>medsize</td>\n",
       "    </tr>\n",
       "    <tr>\n",
       "      <th>2</th>\n",
       "      <td>east</td>\n",
       "      <td>14947</td>\n",
       "      <td>no</td>\n",
       "      <td>basic</td>\n",
       "      <td>bachelor</td>\n",
       "      <td>2/10/11</td>\n",
       "      <td>feb</td>\n",
       "      <td>employed</td>\n",
       "      <td>m</td>\n",
       "      <td>22139</td>\n",
       "      <td>...</td>\n",
       "      <td>31</td>\n",
       "      <td>0</td>\n",
       "      <td>2</td>\n",
       "      <td>personal auto</td>\n",
       "      <td>personal l3</td>\n",
       "      <td>offer3</td>\n",
       "      <td>call center</td>\n",
       "      <td>480</td>\n",
       "      <td>suv</td>\n",
       "      <td>medsize</td>\n",
       "    </tr>\n",
       "    <tr>\n",
       "      <th>3</th>\n",
       "      <td>north west</td>\n",
       "      <td>22332</td>\n",
       "      <td>yes</td>\n",
       "      <td>extended</td>\n",
       "      <td>college</td>\n",
       "      <td>1/11/11</td>\n",
       "      <td>jan</td>\n",
       "      <td>employed</td>\n",
       "      <td>m</td>\n",
       "      <td>49078</td>\n",
       "      <td>...</td>\n",
       "      <td>3</td>\n",
       "      <td>0</td>\n",
       "      <td>2</td>\n",
       "      <td>corporate auto</td>\n",
       "      <td>corporate l3</td>\n",
       "      <td>offer2</td>\n",
       "      <td>branch</td>\n",
       "      <td>484</td>\n",
       "      <td>four-door car</td>\n",
       "      <td>medsize</td>\n",
       "    </tr>\n",
       "    <tr>\n",
       "      <th>4</th>\n",
       "      <td>north west</td>\n",
       "      <td>9025</td>\n",
       "      <td>no</td>\n",
       "      <td>premium</td>\n",
       "      <td>bachelor</td>\n",
       "      <td>1/17/11</td>\n",
       "      <td>jan</td>\n",
       "      <td>medical leave</td>\n",
       "      <td>f</td>\n",
       "      <td>23675</td>\n",
       "      <td>...</td>\n",
       "      <td>31</td>\n",
       "      <td>0</td>\n",
       "      <td>7</td>\n",
       "      <td>personal auto</td>\n",
       "      <td>personal l2</td>\n",
       "      <td>offer1</td>\n",
       "      <td>branch</td>\n",
       "      <td>707</td>\n",
       "      <td>four-door car</td>\n",
       "      <td>medsize</td>\n",
       "    </tr>\n",
       "    <tr>\n",
       "      <th>...</th>\n",
       "      <td>...</td>\n",
       "      <td>...</td>\n",
       "      <td>...</td>\n",
       "      <td>...</td>\n",
       "      <td>...</td>\n",
       "      <td>...</td>\n",
       "      <td>...</td>\n",
       "      <td>...</td>\n",
       "      <td>...</td>\n",
       "      <td>...</td>\n",
       "      <td>...</td>\n",
       "      <td>...</td>\n",
       "      <td>...</td>\n",
       "      <td>...</td>\n",
       "      <td>...</td>\n",
       "      <td>...</td>\n",
       "      <td>...</td>\n",
       "      <td>...</td>\n",
       "      <td>...</td>\n",
       "      <td>...</td>\n",
       "      <td>...</td>\n",
       "    </tr>\n",
       "    <tr>\n",
       "      <th>10684</th>\n",
       "      <td>central</td>\n",
       "      <td>15563</td>\n",
       "      <td>no</td>\n",
       "      <td>premium</td>\n",
       "      <td>bachelor</td>\n",
       "      <td>1/19/11</td>\n",
       "      <td>jan</td>\n",
       "      <td>unemployed</td>\n",
       "      <td>f</td>\n",
       "      <td>61541</td>\n",
       "      <td>...</td>\n",
       "      <td>40</td>\n",
       "      <td>0</td>\n",
       "      <td>7</td>\n",
       "      <td>personal auto</td>\n",
       "      <td>personal l1</td>\n",
       "      <td>offer3</td>\n",
       "      <td>web</td>\n",
       "      <td>1214</td>\n",
       "      <td>luxury car</td>\n",
       "      <td>medsize</td>\n",
       "    </tr>\n",
       "    <tr>\n",
       "      <th>10685</th>\n",
       "      <td>north west</td>\n",
       "      <td>5259</td>\n",
       "      <td>no</td>\n",
       "      <td>basic</td>\n",
       "      <td>college</td>\n",
       "      <td>1/6/11</td>\n",
       "      <td>jan</td>\n",
       "      <td>employed</td>\n",
       "      <td>f</td>\n",
       "      <td>61146</td>\n",
       "      <td>...</td>\n",
       "      <td>68</td>\n",
       "      <td>0</td>\n",
       "      <td>6</td>\n",
       "      <td>personal auto</td>\n",
       "      <td>personal l3</td>\n",
       "      <td>offer2</td>\n",
       "      <td>branch</td>\n",
       "      <td>273</td>\n",
       "      <td>four-door car</td>\n",
       "      <td>medsize</td>\n",
       "    </tr>\n",
       "    <tr>\n",
       "      <th>10686</th>\n",
       "      <td>central</td>\n",
       "      <td>23893</td>\n",
       "      <td>no</td>\n",
       "      <td>extended</td>\n",
       "      <td>bachelor</td>\n",
       "      <td>2/6/11</td>\n",
       "      <td>feb</td>\n",
       "      <td>employed</td>\n",
       "      <td>f</td>\n",
       "      <td>39837</td>\n",
       "      <td>...</td>\n",
       "      <td>63</td>\n",
       "      <td>0</td>\n",
       "      <td>2</td>\n",
       "      <td>corporate auto</td>\n",
       "      <td>corporate l3</td>\n",
       "      <td>offer1</td>\n",
       "      <td>web</td>\n",
       "      <td>381</td>\n",
       "      <td>luxury suv</td>\n",
       "      <td>medsize</td>\n",
       "    </tr>\n",
       "    <tr>\n",
       "      <th>10687</th>\n",
       "      <td>west region</td>\n",
       "      <td>11971</td>\n",
       "      <td>no</td>\n",
       "      <td>premium</td>\n",
       "      <td>college</td>\n",
       "      <td>2/13/11</td>\n",
       "      <td>feb</td>\n",
       "      <td>employed</td>\n",
       "      <td>f</td>\n",
       "      <td>64195</td>\n",
       "      <td>...</td>\n",
       "      <td>27</td>\n",
       "      <td>4</td>\n",
       "      <td>6</td>\n",
       "      <td>personal auto</td>\n",
       "      <td>personal l1</td>\n",
       "      <td>offer1</td>\n",
       "      <td>branch</td>\n",
       "      <td>618</td>\n",
       "      <td>suv</td>\n",
       "      <td>medsize</td>\n",
       "    </tr>\n",
       "    <tr>\n",
       "      <th>10688</th>\n",
       "      <td>central</td>\n",
       "      <td>6857</td>\n",
       "      <td>no</td>\n",
       "      <td>basic</td>\n",
       "      <td>bachelor</td>\n",
       "      <td>1/8/11</td>\n",
       "      <td>jan</td>\n",
       "      <td>unemployed</td>\n",
       "      <td>m</td>\n",
       "      <td>68942</td>\n",
       "      <td>...</td>\n",
       "      <td>1</td>\n",
       "      <td>0</td>\n",
       "      <td>3</td>\n",
       "      <td>personal auto</td>\n",
       "      <td>personal l1</td>\n",
       "      <td>offer4</td>\n",
       "      <td>web</td>\n",
       "      <td>1021</td>\n",
       "      <td>suv</td>\n",
       "      <td>medsize</td>\n",
       "    </tr>\n",
       "  </tbody>\n",
       "</table>\n",
       "<p>10689 rows × 24 columns</p>\n",
       "</div>"
      ],
      "text/plain": [
       "            region  customer_lifetime_value response  coverage education  \\\n",
       "0          central                     4809       no     basic   college   \n",
       "1      west region                     2228       no     basic   college   \n",
       "2             east                    14947       no     basic  bachelor   \n",
       "3       north west                    22332      yes  extended   college   \n",
       "4       north west                     9025       no   premium  bachelor   \n",
       "...            ...                      ...      ...       ...       ...   \n",
       "10684      central                    15563       no   premium  bachelor   \n",
       "10685   north west                     5259       no     basic   college   \n",
       "10686      central                    23893       no  extended  bachelor   \n",
       "10687  west region                    11971       no   premium   college   \n",
       "10688      central                     6857       no     basic  bachelor   \n",
       "\n",
       "      effective_to_date month employment_status gender  income  ...  \\\n",
       "0               2/18/11   feb          employed      m   48029  ...   \n",
       "1               1/18/11   jan        unemployed      f   92260  ...   \n",
       "2               2/10/11   feb          employed      m   22139  ...   \n",
       "3               1/11/11   jan          employed      m   49078  ...   \n",
       "4               1/17/11   jan     medical leave      f   23675  ...   \n",
       "...                 ...   ...               ...    ...     ...  ...   \n",
       "10684           1/19/11   jan        unemployed      f   61541  ...   \n",
       "10685            1/6/11   jan          employed      f   61146  ...   \n",
       "10686            2/6/11   feb          employed      f   39837  ...   \n",
       "10687           2/13/11   feb          employed      f   64195  ...   \n",
       "10688            1/8/11   jan        unemployed      m   68942  ...   \n",
       "\n",
       "      months_since_policy_inception number_of_open_complaints  \\\n",
       "0                                52                         0   \n",
       "1                                26                         0   \n",
       "2                                31                         0   \n",
       "3                                 3                         0   \n",
       "4                                31                         0   \n",
       "...                             ...                       ...   \n",
       "10684                            40                         0   \n",
       "10685                            68                         0   \n",
       "10686                            63                         0   \n",
       "10687                            27                         4   \n",
       "10688                             1                         0   \n",
       "\n",
       "       number_of_policies     policy_type        policy  renew_offer_type  \\\n",
       "0                       9  corporate auto  corporate l3            offer3   \n",
       "1                       1   personal auto   personal l3            offer4   \n",
       "2                       2   personal auto   personal l3            offer3   \n",
       "3                       2  corporate auto  corporate l3            offer2   \n",
       "4                       7   personal auto   personal l2            offer1   \n",
       "...                   ...             ...           ...               ...   \n",
       "10684                   7   personal auto   personal l1            offer3   \n",
       "10685                   6   personal auto   personal l3            offer2   \n",
       "10686                   2  corporate auto  corporate l3            offer1   \n",
       "10687                   6   personal auto   personal l1            offer1   \n",
       "10688                   3   personal auto   personal l1            offer4   \n",
       "\n",
       "       sales_channel total_claim_amount  vehicle_class vehicle_size  \n",
       "0              agent                292  four-door car      medsize  \n",
       "1        call center                744  four-door car      medsize  \n",
       "2        call center                480            suv      medsize  \n",
       "3             branch                484  four-door car      medsize  \n",
       "4             branch                707  four-door car      medsize  \n",
       "...              ...                ...            ...          ...  \n",
       "10684            web               1214     luxury car      medsize  \n",
       "10685         branch                273  four-door car      medsize  \n",
       "10686            web                381     luxury suv      medsize  \n",
       "10687         branch                618            suv      medsize  \n",
       "10688            web               1021            suv      medsize  \n",
       "\n",
       "[10689 rows x 24 columns]"
      ]
     },
     "execution_count": 2,
     "metadata": {},
     "output_type": "execute_result"
    }
   ],
   "source": [
    "customer_df = pd.read_csv('Data_Marketing_Customer_Analysis_Round3.csv')\n",
    "customer_df"
   ]
  },
  {
   "cell_type": "code",
   "execution_count": 3,
   "id": "e04fdc1b",
   "metadata": {},
   "outputs": [],
   "source": [
    "numericals = customer_df.select_dtypes(include='number')\n",
    "categoricals = customer_df.select_dtypes(include='object')"
   ]
  },
  {
   "cell_type": "code",
   "execution_count": 4,
   "id": "81387a6c",
   "metadata": {},
   "outputs": [
    {
     "data": {
      "text/html": [
       "<div>\n",
       "<style scoped>\n",
       "    .dataframe tbody tr th:only-of-type {\n",
       "        vertical-align: middle;\n",
       "    }\n",
       "\n",
       "    .dataframe tbody tr th {\n",
       "        vertical-align: top;\n",
       "    }\n",
       "\n",
       "    .dataframe thead th {\n",
       "        text-align: right;\n",
       "    }\n",
       "</style>\n",
       "<table border=\"1\" class=\"dataframe\">\n",
       "  <thead>\n",
       "    <tr style=\"text-align: right;\">\n",
       "      <th></th>\n",
       "      <th>customer_lifetime_value</th>\n",
       "      <th>income</th>\n",
       "      <th>monthly_premium_auto</th>\n",
       "      <th>months_since_last_claim</th>\n",
       "      <th>months_since_policy_inception</th>\n",
       "      <th>number_of_open_complaints</th>\n",
       "      <th>number_of_policies</th>\n",
       "      <th>total_claim_amount</th>\n",
       "    </tr>\n",
       "  </thead>\n",
       "  <tbody>\n",
       "    <tr>\n",
       "      <th>customer_lifetime_value</th>\n",
       "      <td>1.000000</td>\n",
       "      <td>0.003732</td>\n",
       "      <td>0.404235</td>\n",
       "      <td>0.011912</td>\n",
       "      <td>0.017055</td>\n",
       "      <td>-0.032371</td>\n",
       "      <td>0.016789</td>\n",
       "      <td>0.232849</td>\n",
       "    </tr>\n",
       "    <tr>\n",
       "      <th>income</th>\n",
       "      <td>0.003732</td>\n",
       "      <td>1.000000</td>\n",
       "      <td>-0.002431</td>\n",
       "      <td>-0.026564</td>\n",
       "      <td>0.003846</td>\n",
       "      <td>0.018903</td>\n",
       "      <td>-0.004461</td>\n",
       "      <td>-0.111221</td>\n",
       "    </tr>\n",
       "    <tr>\n",
       "      <th>monthly_premium_auto</th>\n",
       "      <td>0.404235</td>\n",
       "      <td>-0.002431</td>\n",
       "      <td>1.000000</td>\n",
       "      <td>0.010036</td>\n",
       "      <td>0.019696</td>\n",
       "      <td>-0.008811</td>\n",
       "      <td>-0.018805</td>\n",
       "      <td>0.630149</td>\n",
       "    </tr>\n",
       "    <tr>\n",
       "      <th>months_since_last_claim</th>\n",
       "      <td>0.011912</td>\n",
       "      <td>-0.026564</td>\n",
       "      <td>0.010036</td>\n",
       "      <td>1.000000</td>\n",
       "      <td>-0.034086</td>\n",
       "      <td>0.001204</td>\n",
       "      <td>0.000814</td>\n",
       "      <td>0.013874</td>\n",
       "    </tr>\n",
       "    <tr>\n",
       "      <th>months_since_policy_inception</th>\n",
       "      <td>0.017055</td>\n",
       "      <td>0.003846</td>\n",
       "      <td>0.019696</td>\n",
       "      <td>-0.034086</td>\n",
       "      <td>1.000000</td>\n",
       "      <td>0.002554</td>\n",
       "      <td>-0.009719</td>\n",
       "      <td>0.004186</td>\n",
       "    </tr>\n",
       "    <tr>\n",
       "      <th>number_of_open_complaints</th>\n",
       "      <td>-0.032371</td>\n",
       "      <td>0.018903</td>\n",
       "      <td>-0.008811</td>\n",
       "      <td>0.001204</td>\n",
       "      <td>0.002554</td>\n",
       "      <td>1.000000</td>\n",
       "      <td>-0.000303</td>\n",
       "      <td>-0.010668</td>\n",
       "    </tr>\n",
       "    <tr>\n",
       "      <th>number_of_policies</th>\n",
       "      <td>0.016789</td>\n",
       "      <td>-0.004461</td>\n",
       "      <td>-0.018805</td>\n",
       "      <td>0.000814</td>\n",
       "      <td>-0.009719</td>\n",
       "      <td>-0.000303</td>\n",
       "      <td>1.000000</td>\n",
       "      <td>-0.008019</td>\n",
       "    </tr>\n",
       "    <tr>\n",
       "      <th>total_claim_amount</th>\n",
       "      <td>0.232849</td>\n",
       "      <td>-0.111221</td>\n",
       "      <td>0.630149</td>\n",
       "      <td>0.013874</td>\n",
       "      <td>0.004186</td>\n",
       "      <td>-0.010668</td>\n",
       "      <td>-0.008019</td>\n",
       "      <td>1.000000</td>\n",
       "    </tr>\n",
       "  </tbody>\n",
       "</table>\n",
       "</div>"
      ],
      "text/plain": [
       "                               customer_lifetime_value    income  \\\n",
       "customer_lifetime_value                       1.000000  0.003732   \n",
       "income                                        0.003732  1.000000   \n",
       "monthly_premium_auto                          0.404235 -0.002431   \n",
       "months_since_last_claim                       0.011912 -0.026564   \n",
       "months_since_policy_inception                 0.017055  0.003846   \n",
       "number_of_open_complaints                    -0.032371  0.018903   \n",
       "number_of_policies                            0.016789 -0.004461   \n",
       "total_claim_amount                            0.232849 -0.111221   \n",
       "\n",
       "                               monthly_premium_auto  months_since_last_claim  \\\n",
       "customer_lifetime_value                    0.404235                 0.011912   \n",
       "income                                    -0.002431                -0.026564   \n",
       "monthly_premium_auto                       1.000000                 0.010036   \n",
       "months_since_last_claim                    0.010036                 1.000000   \n",
       "months_since_policy_inception              0.019696                -0.034086   \n",
       "number_of_open_complaints                 -0.008811                 0.001204   \n",
       "number_of_policies                        -0.018805                 0.000814   \n",
       "total_claim_amount                         0.630149                 0.013874   \n",
       "\n",
       "                               months_since_policy_inception  \\\n",
       "customer_lifetime_value                             0.017055   \n",
       "income                                              0.003846   \n",
       "monthly_premium_auto                                0.019696   \n",
       "months_since_last_claim                            -0.034086   \n",
       "months_since_policy_inception                       1.000000   \n",
       "number_of_open_complaints                           0.002554   \n",
       "number_of_policies                                 -0.009719   \n",
       "total_claim_amount                                  0.004186   \n",
       "\n",
       "                               number_of_open_complaints  number_of_policies  \\\n",
       "customer_lifetime_value                        -0.032371            0.016789   \n",
       "income                                          0.018903           -0.004461   \n",
       "monthly_premium_auto                           -0.008811           -0.018805   \n",
       "months_since_last_claim                         0.001204            0.000814   \n",
       "months_since_policy_inception                   0.002554           -0.009719   \n",
       "number_of_open_complaints                       1.000000           -0.000303   \n",
       "number_of_policies                             -0.000303            1.000000   \n",
       "total_claim_amount                             -0.010668           -0.008019   \n",
       "\n",
       "                               total_claim_amount  \n",
       "customer_lifetime_value                  0.232849  \n",
       "income                                  -0.111221  \n",
       "monthly_premium_auto                     0.630149  \n",
       "months_since_last_claim                  0.013874  \n",
       "months_since_policy_inception            0.004186  \n",
       "number_of_open_complaints               -0.010668  \n",
       "number_of_policies                      -0.008019  \n",
       "total_claim_amount                       1.000000  "
      ]
     },
     "execution_count": 4,
     "metadata": {},
     "output_type": "execute_result"
    }
   ],
   "source": [
    "# Check if there are highly correlated features and drop them if there are any.\n",
    "num_corr = numericals.corr()\n",
    "num_corr\n",
    "# There are none variables that highly correlated between each other"
   ]
  },
  {
   "cell_type": "code",
   "execution_count": 5,
   "id": "65187b68",
   "metadata": {},
   "outputs": [
    {
     "name": "stdout",
     "output_type": "stream",
     "text": [
      "<class 'pandas.core.frame.DataFrame'>\n",
      "RangeIndex: 10689 entries, 0 to 10688\n",
      "Data columns (total 16 columns):\n",
      " #   Column             Non-Null Count  Dtype \n",
      "---  ------             --------------  ----- \n",
      " 0   region             10689 non-null  object\n",
      " 1   response           10689 non-null  object\n",
      " 2   coverage           10689 non-null  object\n",
      " 3   education          10689 non-null  object\n",
      " 4   effective_to_date  10689 non-null  object\n",
      " 5   month              10689 non-null  object\n",
      " 6   employment_status  10689 non-null  object\n",
      " 7   gender             10689 non-null  object\n",
      " 8   location_code      10689 non-null  object\n",
      " 9   marital_status     10689 non-null  object\n",
      " 10  policy_type        10689 non-null  object\n",
      " 11  policy             10689 non-null  object\n",
      " 12  renew_offer_type   10689 non-null  object\n",
      " 13  sales_channel      10689 non-null  object\n",
      " 14  vehicle_class      10689 non-null  object\n",
      " 15  vehicle_size       10689 non-null  object\n",
      "dtypes: object(16)\n",
      "memory usage: 1.3+ MB\n"
     ]
    }
   ],
   "source": [
    "categoricals.info()"
   ]
  },
  {
   "cell_type": "code",
   "execution_count": 6,
   "id": "5dfecf89",
   "metadata": {},
   "outputs": [
    {
     "data": {
      "text/plain": [
       "array(['central', 'west region', 'east', 'north west'], dtype=object)"
      ]
     },
     "execution_count": 6,
     "metadata": {},
     "output_type": "execute_result"
    }
   ],
   "source": [
    "categoricals['region'].unique()"
   ]
  },
  {
   "cell_type": "code",
   "execution_count": 7,
   "id": "860886e1",
   "metadata": {},
   "outputs": [
    {
     "data": {
      "text/plain": [
       "array(['no', 'yes'], dtype=object)"
      ]
     },
     "execution_count": 7,
     "metadata": {},
     "output_type": "execute_result"
    }
   ],
   "source": [
    "categoricals['response'].unique()"
   ]
  },
  {
   "cell_type": "code",
   "execution_count": 8,
   "id": "ef8ce79e",
   "metadata": {},
   "outputs": [
    {
     "data": {
      "text/plain": [
       "array(['basic', 'extended', 'premium'], dtype=object)"
      ]
     },
     "execution_count": 8,
     "metadata": {},
     "output_type": "execute_result"
    }
   ],
   "source": [
    "categoricals['coverage'].unique()"
   ]
  },
  {
   "cell_type": "code",
   "execution_count": 9,
   "id": "2236b906",
   "metadata": {},
   "outputs": [
    {
     "data": {
      "text/plain": [
       "array(['college', 'bachelor', 'high school or below', 'doctor', 'master'],\n",
       "      dtype=object)"
      ]
     },
     "execution_count": 9,
     "metadata": {},
     "output_type": "execute_result"
    }
   ],
   "source": [
    "categoricals['education'].unique()"
   ]
  },
  {
   "cell_type": "code",
   "execution_count": 10,
   "id": "d01b63e8",
   "metadata": {},
   "outputs": [
    {
     "data": {
      "text/plain": [
       "array(['2/18/11', '1/18/11', '2/10/11', '1/11/11', '1/17/11', '2/14/11',\n",
       "       '2/24/11', '1/19/11', '1/4/11', '1/2/11', '2/7/11', '1/31/11',\n",
       "       '1/26/11', '2/28/11', '1/16/11', '2/26/11', '2/23/11', '1/15/11',\n",
       "       '2/2/11', '2/15/11', '1/24/11', '2/21/11', '2/22/11', '1/7/11',\n",
       "       '1/28/11', '2/8/11', '2/12/11', '2/20/11', '1/5/11', '2/19/11',\n",
       "       '1/3/11', '2/3/11', '1/22/11', '1/23/11', '2/5/11', '2/13/11',\n",
       "       '1/25/11', '2/16/11', '2/1/11', '1/27/11', '1/12/11', '1/20/11',\n",
       "       '2/6/11', '2/11/11', '1/21/11', '1/29/11', '1/9/11', '2/9/11',\n",
       "       '2/27/11', '1/1/11', '2/17/11', '2/25/11', '1/13/11', '1/6/11',\n",
       "       '2/4/11', '1/14/11', '1/10/11', '1/8/11', '1/30/11'], dtype=object)"
      ]
     },
     "execution_count": 10,
     "metadata": {},
     "output_type": "execute_result"
    }
   ],
   "source": [
    "categoricals['effective_to_date'].unique()"
   ]
  },
  {
   "cell_type": "code",
   "execution_count": 11,
   "id": "d5b59beb",
   "metadata": {},
   "outputs": [
    {
     "data": {
      "text/plain": [
       "array(['feb', 'jan'], dtype=object)"
      ]
     },
     "execution_count": 11,
     "metadata": {},
     "output_type": "execute_result"
    }
   ],
   "source": [
    "categoricals['month'].unique()"
   ]
  },
  {
   "cell_type": "code",
   "execution_count": 12,
   "id": "144609b9",
   "metadata": {},
   "outputs": [
    {
     "data": {
      "text/plain": [
       "array(['employed', 'unemployed', 'medical leave', 'disabled', 'retired'],\n",
       "      dtype=object)"
      ]
     },
     "execution_count": 12,
     "metadata": {},
     "output_type": "execute_result"
    }
   ],
   "source": [
    "categoricals['employment_status'].unique()"
   ]
  },
  {
   "cell_type": "code",
   "execution_count": 13,
   "id": "f926f926",
   "metadata": {},
   "outputs": [
    {
     "data": {
      "text/plain": [
       "array(['m', 'f'], dtype=object)"
      ]
     },
     "execution_count": 13,
     "metadata": {},
     "output_type": "execute_result"
    }
   ],
   "source": [
    "categoricals['gender'].unique()"
   ]
  },
  {
   "cell_type": "code",
   "execution_count": 14,
   "id": "78555fb9",
   "metadata": {},
   "outputs": [
    {
     "data": {
      "text/plain": [
       "array(['suburban', 'urban', 'rural'], dtype=object)"
      ]
     },
     "execution_count": 14,
     "metadata": {},
     "output_type": "execute_result"
    }
   ],
   "source": [
    "categoricals['location_code'].unique()"
   ]
  },
  {
   "cell_type": "code",
   "execution_count": 15,
   "id": "97ea1b4d",
   "metadata": {},
   "outputs": [
    {
     "data": {
      "text/plain": [
       "array(['married', 'single', 'divorced'], dtype=object)"
      ]
     },
     "execution_count": 15,
     "metadata": {},
     "output_type": "execute_result"
    }
   ],
   "source": [
    "categoricals['marital_status'].unique()"
   ]
  },
  {
   "cell_type": "code",
   "execution_count": 16,
   "id": "efbb73aa",
   "metadata": {},
   "outputs": [
    {
     "data": {
      "text/plain": [
       "array(['corporate auto', 'personal auto', 'special auto'], dtype=object)"
      ]
     },
     "execution_count": 16,
     "metadata": {},
     "output_type": "execute_result"
    }
   ],
   "source": [
    "categoricals['policy_type'].unique()"
   ]
  },
  {
   "cell_type": "code",
   "execution_count": 17,
   "id": "64cbe320",
   "metadata": {},
   "outputs": [
    {
     "data": {
      "text/plain": [
       "array(['corporate l3', 'personal l3', 'personal l2', 'corporate l2',\n",
       "       'personal l1', 'special l1', 'corporate l1', 'special l3',\n",
       "       'special l2'], dtype=object)"
      ]
     },
     "execution_count": 17,
     "metadata": {},
     "output_type": "execute_result"
    }
   ],
   "source": [
    "categoricals['policy'].unique()"
   ]
  },
  {
   "cell_type": "code",
   "execution_count": 18,
   "id": "87a7332e",
   "metadata": {},
   "outputs": [
    {
     "data": {
      "text/plain": [
       "array(['offer3', 'offer4', 'offer2', 'offer1'], dtype=object)"
      ]
     },
     "execution_count": 18,
     "metadata": {},
     "output_type": "execute_result"
    }
   ],
   "source": [
    "categoricals['renew_offer_type'].unique()"
   ]
  },
  {
   "cell_type": "code",
   "execution_count": 19,
   "id": "5c721ada",
   "metadata": {},
   "outputs": [
    {
     "data": {
      "text/plain": [
       "array(['agent', 'call center', 'branch', 'web'], dtype=object)"
      ]
     },
     "execution_count": 19,
     "metadata": {},
     "output_type": "execute_result"
    }
   ],
   "source": [
    "categoricals['sales_channel'].unique()"
   ]
  },
  {
   "cell_type": "code",
   "execution_count": 20,
   "id": "db906104",
   "metadata": {},
   "outputs": [
    {
     "data": {
      "text/plain": [
       "array(['four-door car', 'suv', 'two-door car', 'sports car', 'luxury car',\n",
       "       'luxury suv'], dtype=object)"
      ]
     },
     "execution_count": 20,
     "metadata": {},
     "output_type": "execute_result"
    }
   ],
   "source": [
    "categoricals['vehicle_class'].unique()"
   ]
  },
  {
   "cell_type": "code",
   "execution_count": 21,
   "id": "976a31c8",
   "metadata": {},
   "outputs": [
    {
     "data": {
      "text/plain": [
       "array(['medsize', 'small', 'large'], dtype=object)"
      ]
     },
     "execution_count": 21,
     "metadata": {},
     "output_type": "execute_result"
    }
   ],
   "source": [
    "categoricals['vehicle_size'].unique()"
   ]
  },
  {
   "cell_type": "code",
   "execution_count": 22,
   "id": "55c2b2ac",
   "metadata": {},
   "outputs": [
    {
     "data": {
      "text/html": [
       "<div>\n",
       "<style scoped>\n",
       "    .dataframe tbody tr th:only-of-type {\n",
       "        vertical-align: middle;\n",
       "    }\n",
       "\n",
       "    .dataframe tbody tr th {\n",
       "        vertical-align: top;\n",
       "    }\n",
       "\n",
       "    .dataframe thead th {\n",
       "        text-align: right;\n",
       "    }\n",
       "</style>\n",
       "<table border=\"1\" class=\"dataframe\">\n",
       "  <thead>\n",
       "    <tr style=\"text-align: right;\">\n",
       "      <th></th>\n",
       "      <th>coverage</th>\n",
       "      <th>education</th>\n",
       "      <th>effective_to_date</th>\n",
       "      <th>vehicle_size</th>\n",
       "      <th>response_yes</th>\n",
       "      <th>gender_m</th>\n",
       "      <th>month_jan</th>\n",
       "      <th>region_east</th>\n",
       "      <th>region_north west</th>\n",
       "      <th>region_west region</th>\n",
       "      <th>...</th>\n",
       "      <th>renew_offer_type_offer3</th>\n",
       "      <th>renew_offer_type_offer4</th>\n",
       "      <th>sales_channel_branch</th>\n",
       "      <th>sales_channel_call center</th>\n",
       "      <th>sales_channel_web</th>\n",
       "      <th>vehicle_class_luxury car</th>\n",
       "      <th>vehicle_class_luxury suv</th>\n",
       "      <th>vehicle_class_sports car</th>\n",
       "      <th>vehicle_class_suv</th>\n",
       "      <th>vehicle_class_two-door car</th>\n",
       "    </tr>\n",
       "  </thead>\n",
       "  <tbody>\n",
       "    <tr>\n",
       "      <th>0</th>\n",
       "      <td>basic</td>\n",
       "      <td>college</td>\n",
       "      <td>2/18/11</td>\n",
       "      <td>medsize</td>\n",
       "      <td>0</td>\n",
       "      <td>1</td>\n",
       "      <td>0</td>\n",
       "      <td>0</td>\n",
       "      <td>0</td>\n",
       "      <td>0</td>\n",
       "      <td>...</td>\n",
       "      <td>1</td>\n",
       "      <td>0</td>\n",
       "      <td>0</td>\n",
       "      <td>0</td>\n",
       "      <td>0</td>\n",
       "      <td>0</td>\n",
       "      <td>0</td>\n",
       "      <td>0</td>\n",
       "      <td>0</td>\n",
       "      <td>0</td>\n",
       "    </tr>\n",
       "    <tr>\n",
       "      <th>1</th>\n",
       "      <td>basic</td>\n",
       "      <td>college</td>\n",
       "      <td>1/18/11</td>\n",
       "      <td>medsize</td>\n",
       "      <td>0</td>\n",
       "      <td>0</td>\n",
       "      <td>1</td>\n",
       "      <td>0</td>\n",
       "      <td>0</td>\n",
       "      <td>1</td>\n",
       "      <td>...</td>\n",
       "      <td>0</td>\n",
       "      <td>1</td>\n",
       "      <td>0</td>\n",
       "      <td>1</td>\n",
       "      <td>0</td>\n",
       "      <td>0</td>\n",
       "      <td>0</td>\n",
       "      <td>0</td>\n",
       "      <td>0</td>\n",
       "      <td>0</td>\n",
       "    </tr>\n",
       "    <tr>\n",
       "      <th>2</th>\n",
       "      <td>basic</td>\n",
       "      <td>bachelor</td>\n",
       "      <td>2/10/11</td>\n",
       "      <td>medsize</td>\n",
       "      <td>0</td>\n",
       "      <td>1</td>\n",
       "      <td>0</td>\n",
       "      <td>1</td>\n",
       "      <td>0</td>\n",
       "      <td>0</td>\n",
       "      <td>...</td>\n",
       "      <td>1</td>\n",
       "      <td>0</td>\n",
       "      <td>0</td>\n",
       "      <td>1</td>\n",
       "      <td>0</td>\n",
       "      <td>0</td>\n",
       "      <td>0</td>\n",
       "      <td>0</td>\n",
       "      <td>1</td>\n",
       "      <td>0</td>\n",
       "    </tr>\n",
       "    <tr>\n",
       "      <th>3</th>\n",
       "      <td>extended</td>\n",
       "      <td>college</td>\n",
       "      <td>1/11/11</td>\n",
       "      <td>medsize</td>\n",
       "      <td>1</td>\n",
       "      <td>1</td>\n",
       "      <td>1</td>\n",
       "      <td>0</td>\n",
       "      <td>1</td>\n",
       "      <td>0</td>\n",
       "      <td>...</td>\n",
       "      <td>0</td>\n",
       "      <td>0</td>\n",
       "      <td>1</td>\n",
       "      <td>0</td>\n",
       "      <td>0</td>\n",
       "      <td>0</td>\n",
       "      <td>0</td>\n",
       "      <td>0</td>\n",
       "      <td>0</td>\n",
       "      <td>0</td>\n",
       "    </tr>\n",
       "    <tr>\n",
       "      <th>4</th>\n",
       "      <td>premium</td>\n",
       "      <td>bachelor</td>\n",
       "      <td>1/17/11</td>\n",
       "      <td>medsize</td>\n",
       "      <td>0</td>\n",
       "      <td>0</td>\n",
       "      <td>1</td>\n",
       "      <td>0</td>\n",
       "      <td>1</td>\n",
       "      <td>0</td>\n",
       "      <td>...</td>\n",
       "      <td>0</td>\n",
       "      <td>0</td>\n",
       "      <td>1</td>\n",
       "      <td>0</td>\n",
       "      <td>0</td>\n",
       "      <td>0</td>\n",
       "      <td>0</td>\n",
       "      <td>0</td>\n",
       "      <td>0</td>\n",
       "      <td>0</td>\n",
       "    </tr>\n",
       "    <tr>\n",
       "      <th>...</th>\n",
       "      <td>...</td>\n",
       "      <td>...</td>\n",
       "      <td>...</td>\n",
       "      <td>...</td>\n",
       "      <td>...</td>\n",
       "      <td>...</td>\n",
       "      <td>...</td>\n",
       "      <td>...</td>\n",
       "      <td>...</td>\n",
       "      <td>...</td>\n",
       "      <td>...</td>\n",
       "      <td>...</td>\n",
       "      <td>...</td>\n",
       "      <td>...</td>\n",
       "      <td>...</td>\n",
       "      <td>...</td>\n",
       "      <td>...</td>\n",
       "      <td>...</td>\n",
       "      <td>...</td>\n",
       "      <td>...</td>\n",
       "      <td>...</td>\n",
       "    </tr>\n",
       "    <tr>\n",
       "      <th>10684</th>\n",
       "      <td>premium</td>\n",
       "      <td>bachelor</td>\n",
       "      <td>1/19/11</td>\n",
       "      <td>medsize</td>\n",
       "      <td>0</td>\n",
       "      <td>0</td>\n",
       "      <td>1</td>\n",
       "      <td>0</td>\n",
       "      <td>0</td>\n",
       "      <td>0</td>\n",
       "      <td>...</td>\n",
       "      <td>1</td>\n",
       "      <td>0</td>\n",
       "      <td>0</td>\n",
       "      <td>0</td>\n",
       "      <td>1</td>\n",
       "      <td>1</td>\n",
       "      <td>0</td>\n",
       "      <td>0</td>\n",
       "      <td>0</td>\n",
       "      <td>0</td>\n",
       "    </tr>\n",
       "    <tr>\n",
       "      <th>10685</th>\n",
       "      <td>basic</td>\n",
       "      <td>college</td>\n",
       "      <td>1/6/11</td>\n",
       "      <td>medsize</td>\n",
       "      <td>0</td>\n",
       "      <td>0</td>\n",
       "      <td>1</td>\n",
       "      <td>0</td>\n",
       "      <td>1</td>\n",
       "      <td>0</td>\n",
       "      <td>...</td>\n",
       "      <td>0</td>\n",
       "      <td>0</td>\n",
       "      <td>1</td>\n",
       "      <td>0</td>\n",
       "      <td>0</td>\n",
       "      <td>0</td>\n",
       "      <td>0</td>\n",
       "      <td>0</td>\n",
       "      <td>0</td>\n",
       "      <td>0</td>\n",
       "    </tr>\n",
       "    <tr>\n",
       "      <th>10686</th>\n",
       "      <td>extended</td>\n",
       "      <td>bachelor</td>\n",
       "      <td>2/6/11</td>\n",
       "      <td>medsize</td>\n",
       "      <td>0</td>\n",
       "      <td>0</td>\n",
       "      <td>0</td>\n",
       "      <td>0</td>\n",
       "      <td>0</td>\n",
       "      <td>0</td>\n",
       "      <td>...</td>\n",
       "      <td>0</td>\n",
       "      <td>0</td>\n",
       "      <td>0</td>\n",
       "      <td>0</td>\n",
       "      <td>1</td>\n",
       "      <td>0</td>\n",
       "      <td>1</td>\n",
       "      <td>0</td>\n",
       "      <td>0</td>\n",
       "      <td>0</td>\n",
       "    </tr>\n",
       "    <tr>\n",
       "      <th>10687</th>\n",
       "      <td>premium</td>\n",
       "      <td>college</td>\n",
       "      <td>2/13/11</td>\n",
       "      <td>medsize</td>\n",
       "      <td>0</td>\n",
       "      <td>0</td>\n",
       "      <td>0</td>\n",
       "      <td>0</td>\n",
       "      <td>0</td>\n",
       "      <td>1</td>\n",
       "      <td>...</td>\n",
       "      <td>0</td>\n",
       "      <td>0</td>\n",
       "      <td>1</td>\n",
       "      <td>0</td>\n",
       "      <td>0</td>\n",
       "      <td>0</td>\n",
       "      <td>0</td>\n",
       "      <td>0</td>\n",
       "      <td>1</td>\n",
       "      <td>0</td>\n",
       "    </tr>\n",
       "    <tr>\n",
       "      <th>10688</th>\n",
       "      <td>basic</td>\n",
       "      <td>bachelor</td>\n",
       "      <td>1/8/11</td>\n",
       "      <td>medsize</td>\n",
       "      <td>0</td>\n",
       "      <td>1</td>\n",
       "      <td>1</td>\n",
       "      <td>0</td>\n",
       "      <td>0</td>\n",
       "      <td>0</td>\n",
       "      <td>...</td>\n",
       "      <td>0</td>\n",
       "      <td>1</td>\n",
       "      <td>0</td>\n",
       "      <td>0</td>\n",
       "      <td>1</td>\n",
       "      <td>0</td>\n",
       "      <td>0</td>\n",
       "      <td>0</td>\n",
       "      <td>1</td>\n",
       "      <td>0</td>\n",
       "    </tr>\n",
       "  </tbody>\n",
       "</table>\n",
       "<p>10689 rows × 39 columns</p>\n",
       "</div>"
      ],
      "text/plain": [
       "       coverage education effective_to_date vehicle_size  response_yes  \\\n",
       "0         basic   college           2/18/11      medsize             0   \n",
       "1         basic   college           1/18/11      medsize             0   \n",
       "2         basic  bachelor           2/10/11      medsize             0   \n",
       "3      extended   college           1/11/11      medsize             1   \n",
       "4       premium  bachelor           1/17/11      medsize             0   \n",
       "...         ...       ...               ...          ...           ...   \n",
       "10684   premium  bachelor           1/19/11      medsize             0   \n",
       "10685     basic   college            1/6/11      medsize             0   \n",
       "10686  extended  bachelor            2/6/11      medsize             0   \n",
       "10687   premium   college           2/13/11      medsize             0   \n",
       "10688     basic  bachelor            1/8/11      medsize             0   \n",
       "\n",
       "       gender_m  month_jan  region_east  region_north west  \\\n",
       "0             1          0            0                  0   \n",
       "1             0          1            0                  0   \n",
       "2             1          0            1                  0   \n",
       "3             1          1            0                  1   \n",
       "4             0          1            0                  1   \n",
       "...         ...        ...          ...                ...   \n",
       "10684         0          1            0                  0   \n",
       "10685         0          1            0                  1   \n",
       "10686         0          0            0                  0   \n",
       "10687         0          0            0                  0   \n",
       "10688         1          1            0                  0   \n",
       "\n",
       "       region_west region  ...  renew_offer_type_offer3  \\\n",
       "0                       0  ...                        1   \n",
       "1                       1  ...                        0   \n",
       "2                       0  ...                        1   \n",
       "3                       0  ...                        0   \n",
       "4                       0  ...                        0   \n",
       "...                   ...  ...                      ...   \n",
       "10684                   0  ...                        1   \n",
       "10685                   0  ...                        0   \n",
       "10686                   0  ...                        0   \n",
       "10687                   1  ...                        0   \n",
       "10688                   0  ...                        0   \n",
       "\n",
       "       renew_offer_type_offer4  sales_channel_branch  \\\n",
       "0                            0                     0   \n",
       "1                            1                     0   \n",
       "2                            0                     0   \n",
       "3                            0                     1   \n",
       "4                            0                     1   \n",
       "...                        ...                   ...   \n",
       "10684                        0                     0   \n",
       "10685                        0                     1   \n",
       "10686                        0                     0   \n",
       "10687                        0                     1   \n",
       "10688                        1                     0   \n",
       "\n",
       "       sales_channel_call center  sales_channel_web  vehicle_class_luxury car  \\\n",
       "0                              0                  0                         0   \n",
       "1                              1                  0                         0   \n",
       "2                              1                  0                         0   \n",
       "3                              0                  0                         0   \n",
       "4                              0                  0                         0   \n",
       "...                          ...                ...                       ...   \n",
       "10684                          0                  1                         1   \n",
       "10685                          0                  0                         0   \n",
       "10686                          0                  1                         0   \n",
       "10687                          0                  0                         0   \n",
       "10688                          0                  1                         0   \n",
       "\n",
       "       vehicle_class_luxury suv  vehicle_class_sports car  vehicle_class_suv  \\\n",
       "0                             0                         0                  0   \n",
       "1                             0                         0                  0   \n",
       "2                             0                         0                  1   \n",
       "3                             0                         0                  0   \n",
       "4                             0                         0                  0   \n",
       "...                         ...                       ...                ...   \n",
       "10684                         0                         0                  0   \n",
       "10685                         0                         0                  0   \n",
       "10686                         1                         0                  0   \n",
       "10687                         0                         0                  1   \n",
       "10688                         0                         0                  1   \n",
       "\n",
       "       vehicle_class_two-door car  \n",
       "0                               0  \n",
       "1                               0  \n",
       "2                               0  \n",
       "3                               0  \n",
       "4                               0  \n",
       "...                           ...  \n",
       "10684                           0  \n",
       "10685                           0  \n",
       "10686                           0  \n",
       "10687                           0  \n",
       "10688                           0  \n",
       "\n",
       "[10689 rows x 39 columns]"
      ]
     },
     "execution_count": 22,
     "metadata": {},
     "output_type": "execute_result"
    }
   ],
   "source": [
    "# One Hot/Label Encoding of the categorical variables in the categoricals data frame that you created in Activity 3. ( Hint: check Dropfirst option).\n",
    "# One hot encoder for the variables that only has 2 possible values\n",
    "categoricals = pd.get_dummies(categoricals, columns = ['response', 'gender','month','region','employment_status','location_code','marital_status','policy_type','policy','renew_offer_type','sales_channel','vehicle_class'], drop_first=True)\n",
    "categoricals"
   ]
  },
  {
   "cell_type": "code",
   "execution_count": 23,
   "id": "a30ab7b9",
   "metadata": {},
   "outputs": [],
   "source": [
    "# Ordinal Label encoder for the variables that has more than 2 possible values\n",
    "from sklearn.preprocessing import OrdinalEncoder\n",
    "encoder = OrdinalEncoder(categories=[['basic', 'extended', 'premium'], ['high school or below', 'college', 'bachelor', 'master', 'doctor'], ['small', 'medsize', 'large']])\n",
    "encoder.fit(categoricals[['coverage', 'education', 'vehicle_size']])\n",
    "categoricals = encoder.transform(categoricals[['coverage', 'education', 'vehicle_size']])"
   ]
  },
  {
   "cell_type": "code",
   "execution_count": 24,
   "id": "e0fb821c",
   "metadata": {},
   "outputs": [],
   "source": [
    "# labeling the education column to my desired values\n",
    "# education = ['college', 'bachelor', 'high school or below', 'doctor', 'master']\n",
    "#education_label = {'high school or below': 0,\n",
    "#             'college': 1,\n",
    "#             'bachelor': 2,\n",
    "#             'master': 3,\n",
    "#             'doctor': 4}\n",
    "#categoricals['education']= categoricals['education'].replace(education_label)"
   ]
  },
  {
   "cell_type": "code",
   "execution_count": 26,
   "id": "21b106e7",
   "metadata": {},
   "outputs": [],
   "source": [
    "#categoricals = categoricals.drop(['effective_to_date'], axis=1)"
   ]
  },
  {
   "cell_type": "code",
   "execution_count": 27,
   "id": "517a0470",
   "metadata": {},
   "outputs": [
    {
     "data": {
      "text/plain": [
       "array([[0., 1., 1.],\n",
       "       [0., 1., 1.],\n",
       "       [0., 2., 1.],\n",
       "       ...,\n",
       "       [1., 2., 1.],\n",
       "       [2., 1., 1.],\n",
       "       [0., 2., 1.]])"
      ]
     },
     "execution_count": 27,
     "metadata": {},
     "output_type": "execute_result"
    }
   ],
   "source": [
    "categoricals"
   ]
  },
  {
   "cell_type": "code",
   "execution_count": 28,
   "id": "e936ad76",
   "metadata": {},
   "outputs": [
    {
     "ename": "TypeError",
     "evalue": "cannot concatenate object of type '<class 'numpy.ndarray'>'; only Series and DataFrame objs are valid",
     "output_type": "error",
     "traceback": [
      "\u001b[0;31m---------------------------------------------------------------------------\u001b[0m",
      "\u001b[0;31mTypeError\u001b[0m                                 Traceback (most recent call last)",
      "\u001b[0;32m/var/folders/z4/jwp_0zd9645ffr0g501f512r0000gn/T/ipykernel_20000/1438981879.py\u001b[0m in \u001b[0;36m<module>\u001b[0;34m\u001b[0m\n\u001b[0;32m----> 1\u001b[0;31m \u001b[0mdf\u001b[0m \u001b[0;34m=\u001b[0m \u001b[0mpd\u001b[0m\u001b[0;34m.\u001b[0m\u001b[0mconcat\u001b[0m\u001b[0;34m(\u001b[0m\u001b[0;34m[\u001b[0m\u001b[0mcategoricals\u001b[0m\u001b[0;34m,\u001b[0m \u001b[0mnumericals\u001b[0m\u001b[0;34m]\u001b[0m\u001b[0;34m)\u001b[0m\u001b[0;34m\u001b[0m\u001b[0;34m\u001b[0m\u001b[0m\n\u001b[0m",
      "\u001b[0;32m~/opt/anaconda3/lib/python3.9/site-packages/pandas/util/_decorators.py\u001b[0m in \u001b[0;36mwrapper\u001b[0;34m(*args, **kwargs)\u001b[0m\n\u001b[1;32m    309\u001b[0m                     \u001b[0mstacklevel\u001b[0m\u001b[0;34m=\u001b[0m\u001b[0mstacklevel\u001b[0m\u001b[0;34m,\u001b[0m\u001b[0;34m\u001b[0m\u001b[0;34m\u001b[0m\u001b[0m\n\u001b[1;32m    310\u001b[0m                 )\n\u001b[0;32m--> 311\u001b[0;31m             \u001b[0;32mreturn\u001b[0m \u001b[0mfunc\u001b[0m\u001b[0;34m(\u001b[0m\u001b[0;34m*\u001b[0m\u001b[0margs\u001b[0m\u001b[0;34m,\u001b[0m \u001b[0;34m**\u001b[0m\u001b[0mkwargs\u001b[0m\u001b[0;34m)\u001b[0m\u001b[0;34m\u001b[0m\u001b[0;34m\u001b[0m\u001b[0m\n\u001b[0m\u001b[1;32m    312\u001b[0m \u001b[0;34m\u001b[0m\u001b[0m\n\u001b[1;32m    313\u001b[0m         \u001b[0;32mreturn\u001b[0m \u001b[0mwrapper\u001b[0m\u001b[0;34m\u001b[0m\u001b[0;34m\u001b[0m\u001b[0m\n",
      "\u001b[0;32m~/opt/anaconda3/lib/python3.9/site-packages/pandas/core/reshape/concat.py\u001b[0m in \u001b[0;36mconcat\u001b[0;34m(objs, axis, join, ignore_index, keys, levels, names, verify_integrity, sort, copy)\u001b[0m\n\u001b[1;32m    345\u001b[0m     \u001b[0mValueError\u001b[0m\u001b[0;34m:\u001b[0m \u001b[0mIndexes\u001b[0m \u001b[0mhave\u001b[0m \u001b[0moverlapping\u001b[0m \u001b[0mvalues\u001b[0m\u001b[0;34m:\u001b[0m \u001b[0;34m[\u001b[0m\u001b[0;34m'a'\u001b[0m\u001b[0;34m]\u001b[0m\u001b[0;34m\u001b[0m\u001b[0;34m\u001b[0m\u001b[0m\n\u001b[1;32m    346\u001b[0m     \"\"\"\n\u001b[0;32m--> 347\u001b[0;31m     op = _Concatenator(\n\u001b[0m\u001b[1;32m    348\u001b[0m         \u001b[0mobjs\u001b[0m\u001b[0;34m,\u001b[0m\u001b[0;34m\u001b[0m\u001b[0;34m\u001b[0m\u001b[0m\n\u001b[1;32m    349\u001b[0m         \u001b[0maxis\u001b[0m\u001b[0;34m=\u001b[0m\u001b[0maxis\u001b[0m\u001b[0;34m,\u001b[0m\u001b[0;34m\u001b[0m\u001b[0;34m\u001b[0m\u001b[0m\n",
      "\u001b[0;32m~/opt/anaconda3/lib/python3.9/site-packages/pandas/core/reshape/concat.py\u001b[0m in \u001b[0;36m__init__\u001b[0;34m(self, objs, axis, join, keys, levels, names, ignore_index, verify_integrity, copy, sort)\u001b[0m\n\u001b[1;32m    435\u001b[0m                     \u001b[0;34m\"only Series and DataFrame objs are valid\"\u001b[0m\u001b[0;34m\u001b[0m\u001b[0;34m\u001b[0m\u001b[0m\n\u001b[1;32m    436\u001b[0m                 )\n\u001b[0;32m--> 437\u001b[0;31m                 \u001b[0;32mraise\u001b[0m \u001b[0mTypeError\u001b[0m\u001b[0;34m(\u001b[0m\u001b[0mmsg\u001b[0m\u001b[0;34m)\u001b[0m\u001b[0;34m\u001b[0m\u001b[0;34m\u001b[0m\u001b[0m\n\u001b[0m\u001b[1;32m    438\u001b[0m \u001b[0;34m\u001b[0m\u001b[0m\n\u001b[1;32m    439\u001b[0m             \u001b[0mndims\u001b[0m\u001b[0;34m.\u001b[0m\u001b[0madd\u001b[0m\u001b[0;34m(\u001b[0m\u001b[0mobj\u001b[0m\u001b[0;34m.\u001b[0m\u001b[0mndim\u001b[0m\u001b[0;34m)\u001b[0m\u001b[0;34m\u001b[0m\u001b[0;34m\u001b[0m\u001b[0m\n",
      "\u001b[0;31mTypeError\u001b[0m: cannot concatenate object of type '<class 'numpy.ndarray'>'; only Series and DataFrame objs are valid"
     ]
    }
   ],
   "source": [
    "df = pd.concat([categoricals, numericals])"
   ]
  },
  {
   "cell_type": "code",
   "execution_count": 29,
   "id": "df103b0c",
   "metadata": {},
   "outputs": [
    {
     "ename": "NameError",
     "evalue": "name 'df' is not defined",
     "output_type": "error",
     "traceback": [
      "\u001b[0;31m---------------------------------------------------------------------------\u001b[0m",
      "\u001b[0;31mNameError\u001b[0m                                 Traceback (most recent call last)",
      "\u001b[0;32m/var/folders/z4/jwp_0zd9645ffr0g501f512r0000gn/T/ipykernel_20000/1396537375.py\u001b[0m in \u001b[0;36m<module>\u001b[0;34m\u001b[0m\n\u001b[0;32m----> 1\u001b[0;31m \u001b[0mdf\u001b[0m\u001b[0;34m\u001b[0m\u001b[0;34m\u001b[0m\u001b[0m\n\u001b[0m",
      "\u001b[0;31mNameError\u001b[0m: name 'df' is not defined"
     ]
    }
   ],
   "source": [
    "df"
   ]
  },
  {
   "cell_type": "markdown",
   "id": "f5ffdeb1",
   "metadata": {},
   "source": [
    "#### Optional Task"
   ]
  },
  {
   "cell_type": "code",
   "execution_count": null,
   "id": "13ab2e22",
   "metadata": {},
   "outputs": [],
   "source": [
    "# Begin by visually examining distributions (histograms) of the numerical features.\n",
    "fig, axes = plt.subplots(3,3,figsize=(20,10))\n",
    "sns.histplot(numericals.customer_lifetime_value, ax=axes [0,0])\n",
    "sns.histplot(numericals.income, ax=axes [0,1])\n",
    "sns.histplot(numericals.monthly_premium_auto, ax=axes [0,2])\n",
    "sns.histplot(numericals.months_since_last_claim, ax=axes [1,0])\n",
    "sns.histplot(numericals.months_since_policy_inception, ax=axes [1,1])\n",
    "sns.histplot(numericals.number_of_open_complaints, ax=axes [1,2])\n",
    "sns.histplot(numericals.number_of_policies, ax=axes [2,0])\n",
    "sns.histplot(numericals.total_claim_amount, ax=axes [2,1])"
   ]
  },
  {
   "cell_type": "markdown",
   "id": "c449dc33",
   "metadata": {},
   "source": [
    "Select a variable, call it varA, which takes on a wide range of numerical values, and another, varB, which has a noticeably large skew. For example, you might select customer_lifetime_value as a candidate varB which has skew.\n",
    "\n",
    "varA\n",
    "-Use minmax transform to bring varA's values into the range [0,1].\n",
    "-Check that varA has been rescaled using a distplot or a histogram\n",
    "\n",
    "varB\n",
    "-Use StandardScaler or PowerTransform to reduce the skew and standardize varB's distribution.\n",
    "-Check that the result has zero mean, unit variance, and reduced skew using mean(), std(), and a plot of the PDF."
   ]
  },
  {
   "cell_type": "code",
   "execution_count": null,
   "id": "1b076b2f",
   "metadata": {},
   "outputs": [],
   "source": [
    "varA = numericals['income']\n",
    "varB = numericals['customer_lifetime_value']"
   ]
  },
  {
   "cell_type": "code",
   "execution_count": null,
   "id": "6e4a2a86",
   "metadata": {},
   "outputs": [],
   "source": [
    "from sklearn.preprocessing import MinMaxScaler\n",
    "numericals[['income']] = MinMaxScaler().fit_transform(numericals[['income']])\n",
    "sns.histplot(numericals.income)"
   ]
  },
  {
   "cell_type": "code",
   "execution_count": null,
   "id": "1ae89d8c",
   "metadata": {},
   "outputs": [],
   "source": [
    "from sklearn.preprocessing import StandardScaler\n",
    "numericals[['customer_lifetime_value']] = StandardScaler().fit_transform(numericals[['customer_lifetime_value']])\n",
    "sns.histplot(numericals.customer_lifetime_value)"
   ]
  },
  {
   "cell_type": "code",
   "execution_count": null,
   "id": "43c139cd",
   "metadata": {},
   "outputs": [],
   "source": [
    "from sklearn.preprocessing import PowerTransformer\n",
    "#sklearn.preprocessing.PowerTransformer(method=’yeo-johnson’, standardize=True, copy=True)\n",
    "numericals[['customer_lifetime_value']] = PowerTransformer(method=’yeo-johnson’, standardize=True, copy=True).fit_transform(numericals[['customer_lifetime_value']])\n",
    "sns.histplot(numericals.customer_lifetime_value)"
   ]
  },
  {
   "cell_type": "code",
   "execution_count": null,
   "id": "aa4f7682",
   "metadata": {},
   "outputs": [],
   "source": [
    "np.mean(numericals['customer_lifetime_value'])"
   ]
  },
  {
   "cell_type": "code",
   "execution_count": null,
   "id": "1a3e7227",
   "metadata": {},
   "outputs": [],
   "source": [
    "np.std(numericals['customer_lifetime_value'])"
   ]
  },
  {
   "cell_type": "code",
   "execution_count": null,
   "id": "c8b09655",
   "metadata": {},
   "outputs": [],
   "source": [
    "#sklearn.preprocessing.PowerTransformer(method=’yeo-johnson’, standardize=True, copy=True)\n",
    "numericals[['customer_lifetime_value']] = PowerTransformer(method=’box-cox’, standardize=True, copy=True).fit_transform(numericals[['customer_lifetime_value']])\n",
    "sns.histplot(numericals.customer_lifetime_value)"
   ]
  },
  {
   "cell_type": "code",
   "execution_count": null,
   "id": "d4215444",
   "metadata": {},
   "outputs": [],
   "source": []
  }
 ],
 "metadata": {
  "kernelspec": {
   "display_name": "Python 3 (ipykernel)",
   "language": "python",
   "name": "python3"
  },
  "language_info": {
   "codemirror_mode": {
    "name": "ipython",
    "version": 3
   },
   "file_extension": ".py",
   "mimetype": "text/x-python",
   "name": "python",
   "nbconvert_exporter": "python",
   "pygments_lexer": "ipython3",
   "version": "3.9.13"
  }
 },
 "nbformat": 4,
 "nbformat_minor": 5
}

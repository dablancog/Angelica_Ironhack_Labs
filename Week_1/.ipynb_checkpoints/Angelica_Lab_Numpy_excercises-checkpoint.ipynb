{
 "cells": [
  {
   "cell_type": "code",
   "execution_count": 1,
   "id": "67d4e357",
   "metadata": {},
   "outputs": [],
   "source": [
    "#### 1. Import the numpy package under the name `np` (★☆☆)\n",
    "#`hint: import … as`\n",
    "import numpy as np"
   ]
  },
  {
   "cell_type": "code",
   "execution_count": 3,
   "id": "9d40e0d1",
   "metadata": {},
   "outputs": [
    {
     "name": "stdout",
     "output_type": "stream",
     "text": [
      "[0. 0. 0. 0. 0. 0. 0. 0. 0. 0.]\n"
     ]
    }
   ],
   "source": [
    "#### 2. Create a null vector of size 10 (★☆☆)\n",
    "#`hint: np.zeros`\n",
    "a = np.zeros(10)\n",
    "print(a)"
   ]
  },
  {
   "cell_type": "code",
   "execution_count": 4,
   "id": "dcd8a5aa",
   "metadata": {},
   "outputs": [
    {
     "name": "stdout",
     "output_type": "stream",
     "text": [
      "[0. 0. 0. 0. 1. 0. 0. 0. 0. 0.]\n"
     ]
    }
   ],
   "source": [
    "#### 3. Create a null vector of size 10 but the fifth value which is 1 (★☆☆)\n",
    "#`hint: array[4]`\n",
    "a[4] = 1\n",
    "print (a)"
   ]
  },
  {
   "cell_type": "code",
   "execution_count": 5,
   "id": "f4dbf5b5",
   "metadata": {},
   "outputs": [
    {
     "data": {
      "text/plain": [
       "array([10, 11, 12, 13, 14, 15, 16, 17, 18, 19, 20, 21, 22, 23, 24, 25, 26,\n",
       "       27, 28, 29, 30, 31, 32, 33, 34, 35, 36, 37, 38, 39, 40, 41, 42, 43,\n",
       "       44, 45, 46, 47, 48, 49])"
      ]
     },
     "execution_count": 5,
     "metadata": {},
     "output_type": "execute_result"
    }
   ],
   "source": [
    "#### 4. Create a vector with values ranging from 10 to 49 (★☆☆)\n",
    "#`hint: arange`\n",
    "np.arange(10, 50)"
   ]
  },
  {
   "cell_type": "code",
   "execution_count": 6,
   "id": "218f3c70",
   "metadata": {},
   "outputs": [
    {
     "name": "stdout",
     "output_type": "stream",
     "text": [
      "[[0 1 2]\n",
      " [3 4 5]\n",
      " [6 7 8]]\n"
     ]
    }
   ],
   "source": [
    "#### 5. Create a 3x3 matrix with values ranging from 0 to 8 (★☆☆)\n",
    "#`hint: reshape`\n",
    "grid = np.arange(0, 9).reshape((3, 3)) # making it a matrix 3 rows 3 colums dimension\n",
    "print(grid)"
   ]
  },
  {
   "cell_type": "code",
   "execution_count": 7,
   "id": "92d78489",
   "metadata": {},
   "outputs": [
    {
     "data": {
      "text/plain": [
       "(array([0, 1, 4]),)"
      ]
     },
     "execution_count": 7,
     "metadata": {},
     "output_type": "execute_result"
    }
   ],
   "source": [
    "#### 6. Find indices of non-zero elements from [1,2,0,0,4,0] (★☆☆)\n",
    "#`hint: np.nonzero`\n",
    "b = [1,2,0,0,4,0]\n",
    "np.nonzero (b)"
   ]
  },
  {
   "cell_type": "code",
   "execution_count": 9,
   "id": "f310a0da",
   "metadata": {},
   "outputs": [
    {
     "name": "stdout",
     "output_type": "stream",
     "text": [
      "[[1. 0. 0.]\n",
      " [0. 1. 0.]\n",
      " [0. 0. 1.]]\n"
     ]
    }
   ],
   "source": [
    "#### 7. Create a 3x3 identity matrix (★☆☆)\n",
    "#`hint: np.eye`\n",
    "c = np.eye (3,3)\n",
    "print (c)"
   ]
  },
  {
   "cell_type": "code",
   "execution_count": 12,
   "id": "8b667d50",
   "metadata": {},
   "outputs": [
    {
     "data": {
      "text/plain": [
       "array([[[0.66917644, 0.02421603, 0.32939043],\n",
       "        [0.94436097, 0.98269383, 0.19533933],\n",
       "        [0.88640731, 0.09331988, 0.10507587]],\n",
       "\n",
       "       [[0.72110668, 0.64017633, 0.93394926],\n",
       "        [0.62128425, 0.44398157, 0.92873363],\n",
       "        [0.67819582, 0.43607733, 0.91114729]],\n",
       "\n",
       "       [[0.65363888, 0.12996296, 0.41249226],\n",
       "        [0.18702958, 0.12513975, 0.45736668],\n",
       "        [0.26564939, 0.07945305, 0.78673   ]]])"
      ]
     },
     "execution_count": 12,
     "metadata": {},
     "output_type": "execute_result"
    }
   ],
   "source": [
    "#### 8. Create a 3x3x3 array with random values (★☆☆)\n",
    "#`hint: np.random.random`\n",
    "np.random.random ((3,3,3))"
   ]
  },
  {
   "cell_type": "code",
   "execution_count": 13,
   "id": "c9d8807b",
   "metadata": {},
   "outputs": [
    {
     "name": "stdout",
     "output_type": "stream",
     "text": [
      "[[0.75051628 0.1373571  0.02795334 0.00521162 0.09782662 0.25984517\n",
      "  0.71660896 0.18216636 0.22473536 0.8698369 ]\n",
      " [0.90228188 0.66245818 0.74170432 0.6111339  0.42512331 0.46970668\n",
      "  0.7828635  0.61017973 0.41678795 0.86061229]\n",
      " [0.62183215 0.04009819 0.36543597 0.02330736 0.71824678 0.87580139\n",
      "  0.86766034 0.09374436 0.19020918 0.67164699]\n",
      " [0.89950288 0.33960642 0.80268845 0.46687144 0.94175558 0.33298607\n",
      "  0.27934253 0.8229138  0.30012816 0.79564657]\n",
      " [0.20727119 0.22547612 0.82188377 0.38539169 0.76990339 0.21884956\n",
      "  0.91836126 0.89840432 0.17282841 0.32573431]\n",
      " [0.68681405 0.83177078 0.43687469 0.28840984 0.35565334 0.5234664\n",
      "  0.99465132 0.20714211 0.47805687 0.5599127 ]\n",
      " [0.22428102 0.07434052 0.87386128 0.23882363 0.72110565 0.40603736\n",
      "  0.49690262 0.39252218 0.20182126 0.29732219]\n",
      " [0.9720058  0.77275234 0.49039664 0.69064885 0.32708176 0.27525536\n",
      "  0.27625558 0.83021465 0.08432559 0.94068023]\n",
      " [0.77030036 0.7479281  0.98757916 0.11661527 0.91232613 0.68323519\n",
      "  0.80411269 0.89105027 0.98433142 0.27011557]\n",
      " [0.59759861 0.20475808 0.25943826 0.85773254 0.82253325 0.28354779\n",
      "  0.4569976  0.76468657 0.92202488 0.68952782]]\n",
      "0.005211617126899437\n",
      "0.9946513166470762\n"
     ]
    }
   ],
   "source": [
    "#### 9. Create a 10x10 array with random values and find the minimum and maximum values (★☆☆)\n",
    "#`hint: min, max`\n",
    "d = np.random.random ((10,10))\n",
    "mi = np.min (d)\n",
    "ma = np.max (d)\n",
    "print (d)\n",
    "print (mi)\n",
    "print (ma)"
   ]
  },
  {
   "cell_type": "code",
   "execution_count": 17,
   "id": "99430483",
   "metadata": {},
   "outputs": [
    {
     "name": "stdout",
     "output_type": "stream",
     "text": [
      "[[1.91278758e-01 6.06672664e-01 3.21799915e-01 1.67502319e-01\n",
      "  5.61650378e-02 1.01701727e-01 7.24044825e-01 2.79199916e-01\n",
      "  8.70790231e-01 3.54835404e-01 4.79774178e-01 9.95343940e-01\n",
      "  3.38569310e-01 9.19161929e-01 5.89529999e-04 4.40644557e-01\n",
      "  6.30478140e-01 2.22371719e-01 3.77509462e-01 4.46683839e-01\n",
      "  8.75220796e-01 8.07675103e-01 5.65902495e-01 1.67634941e-01\n",
      "  4.50359359e-01 1.72030511e-01 9.21313459e-01 7.21725724e-01\n",
      "  9.76259048e-01 5.86356275e-01]]\n",
      "0.49231983696743686\n"
     ]
    }
   ],
   "source": [
    "#### 10. Create a random vector of size 30 and find the mean value (★☆☆)\n",
    "#`hint: mean`\n",
    "e = np.random.random((1,30))\n",
    "mean = np.mean (e)\n",
    "print (e)\n",
    "print (mean)"
   ]
  },
  {
   "cell_type": "code",
   "execution_count": 22,
   "id": "0a9d724b",
   "metadata": {},
   "outputs": [
    {
     "name": "stdout",
     "output_type": "stream",
     "text": [
      "[[0. 0. 0. 0. 0.]\n",
      " [0. 0. 0. 0. 0.]\n",
      " [0. 0. 0. 0. 0.]\n",
      " [0. 0. 0. 0. 0.]\n",
      " [0. 0. 0. 0. 0.]]\n"
     ]
    }
   ],
   "source": [
    "#### 11. Create a 5x5 matrix with values 1,2,3,4 just below the diagonal (★☆☆)\n",
    "#`hint: np.diag`\n",
    "f = np.zeros((5,5))\n",
    "print (f)"
   ]
  },
  {
   "cell_type": "code",
   "execution_count": 25,
   "id": "13fa5616",
   "metadata": {},
   "outputs": [
    {
     "data": {
      "text/plain": [
       "array([0., 0., 0., 0.])"
      ]
     },
     "execution_count": 25,
     "metadata": {},
     "output_type": "execute_result"
    }
   ],
   "source": [
    "diag_f = [1,2,3,4]\n",
    "np.diag(f, 1)"
   ]
  },
  {
   "cell_type": "code",
   "execution_count": 28,
   "id": "9f32ebf7",
   "metadata": {},
   "outputs": [
    {
     "name": "stdout",
     "output_type": "stream",
     "text": [
      "[[0. 0. 0. 0. 0.]\n",
      " [1. 0. 0. 0. 0.]\n",
      " [0. 2. 0. 0. 0.]\n",
      " [0. 0. 3. 0. 0.]\n",
      " [0. 0. 0. 4. 0.]]\n"
     ]
    }
   ],
   "source": [
    "np.fill_diagonal(f[1:], diag_f)\n",
    "print (f)"
   ]
  },
  {
   "cell_type": "code",
   "execution_count": 44,
   "id": "ec6c1a8a",
   "metadata": {},
   "outputs": [
    {
     "name": "stdout",
     "output_type": "stream",
     "text": [
      "[[0 0 0 0 0]\n",
      " [1 0 0 0 0]\n",
      " [0 2 0 0 0]\n",
      " [0 0 3 0 0]\n",
      " [0 0 0 4 0]]\n"
     ]
    }
   ],
   "source": [
    "g = np.diag(np.arange(1,5),-1)\n",
    "print (g)"
   ]
  },
  {
   "cell_type": "code",
   "execution_count": 35,
   "id": "a5ab5354",
   "metadata": {},
   "outputs": [
    {
     "name": "stdout",
     "output_type": "stream",
     "text": [
      "x [[0.49248349 0.46280385 0.26190499 0.57860189 0.12769585]\n",
      " [0.81774095 0.27554912 0.71407919 0.94794189 0.86028453]\n",
      " [0.8353774  0.91532042 0.6909823  0.01741026 0.71380697]\n",
      " [0.1412406  0.8082221  0.70847238 0.92760188 0.993987  ]\n",
      " [0.55652396 0.12070325 0.59153894 0.50088774 0.42580312]]\n",
      "normal_x [[-0.30546946 -0.40968483 -1.11510943 -0.00307829 -1.58636364]\n",
      " [ 0.83662074 -1.06720024  0.47262885  1.29380076  0.98600581]\n",
      " [ 0.89854833  1.17925562  0.39152775 -1.97361406  0.471673  ]\n",
      " [-1.53880338  0.8031968   0.45294142  1.22238002  1.4554809 ]\n",
      " [-0.08060144 -1.61091704  0.04234811 -0.27595925 -0.53960704]]\n"
     ]
    }
   ],
   "source": [
    "#### 12. Normalize a 5x5 random matrix (★☆☆)\n",
    "#`hint: (x -mean)/std`\n",
    "x = np.random.random ((5,5))\n",
    "mean = np.mean (x)\n",
    "std = np.std (x)\n",
    "normal_x = (x - mean)/std\n",
    "print ('x', x)\n",
    "print ('normal_x',normal_x)"
   ]
  },
  {
   "cell_type": "code",
   "execution_count": 37,
   "id": "fa279b95",
   "metadata": {},
   "outputs": [
    {
     "data": {
      "text/plain": [
       "array([1, 3, 5])"
      ]
     },
     "execution_count": 37,
     "metadata": {},
     "output_type": "execute_result"
    }
   ],
   "source": [
    "#### 13. How to find common values between two arrays? (★☆☆)\n",
    "#`hint: np.intersect1d`\n",
    "np.intersect1d([1, 3, 4, 5], [3, 1, 5, 1])"
   ]
  },
  {
   "cell_type": "code",
   "execution_count": 40,
   "id": "e88843fa",
   "metadata": {},
   "outputs": [
    {
     "name": "stdout",
     "output_type": "stream",
     "text": [
      "[[0.13639457 0.06678555 0.47902866 0.83707006 0.59336585 0.21815909\n",
      "  0.39944296 0.40053022 0.86451462 0.19359332]]\n"
     ]
    }
   ],
   "source": [
    "#### 14. Create a random vector of size 10 and sort it (★★☆)\n",
    "#`hint: sort`\n",
    "y = np.random.random ((1,10))\n",
    "print (y)"
   ]
  },
  {
   "cell_type": "code",
   "execution_count": 41,
   "id": "d1bb9d08",
   "metadata": {},
   "outputs": [
    {
     "data": {
      "text/plain": [
       "array([[0.06678555, 0.13639457, 0.19359332, 0.21815909, 0.39944296,\n",
       "        0.40053022, 0.47902866, 0.59336585, 0.83707006, 0.86451462]])"
      ]
     },
     "execution_count": 41,
     "metadata": {},
     "output_type": "execute_result"
    }
   ],
   "source": [
    "np.sort (y)"
   ]
  },
  {
   "cell_type": "code",
   "execution_count": 54,
   "id": "a0e3170a",
   "metadata": {},
   "outputs": [
    {
     "name": "stdout",
     "output_type": "stream",
     "text": [
      "[[0.31043379 0.1812132  0.34419267 0.34834224 0.93559041 0.26952477\n",
      "  0.21384841 0.06508205 0.0276659  0.98387389]]\n",
      "9\n"
     ]
    }
   ],
   "source": [
    "#### 15. Create random vector of size 10 and replace the maximum value by 0 (★★☆)\n",
    "#`hint: argmax`\n",
    "h = np.random.random ((1,10))\n",
    "print (h)\n",
    "print (np.argmax (h))"
   ]
  },
  {
   "cell_type": "code",
   "execution_count": 56,
   "id": "73f8a7d6",
   "metadata": {},
   "outputs": [
    {
     "data": {
      "text/plain": [
       "array([[0.        , 0.1812132 , 0.34419267, 0.34834224, 0.93559041,\n",
       "        0.26952477, 0.21384841, 0.06508205, 0.0276659 , 0.        ]])"
      ]
     },
     "execution_count": 56,
     "metadata": {},
     "output_type": "execute_result"
    }
   ],
   "source": [
    "h[0,9] = 0\n",
    "h"
   ]
  },
  {
   "cell_type": "code",
   "execution_count": 58,
   "id": "3f5fee10",
   "metadata": {},
   "outputs": [
    {
     "data": {
      "text/plain": [
       "array([[0.95622006, 0.30723019, 0.36464441, 0.68731218],\n",
       "       [0.47191489, 0.45493942, 0.68808849, 0.47435944],\n",
       "       [0.05583325, 0.79027792, 0.74974573, 0.00246574]])"
      ]
     },
     "execution_count": 58,
     "metadata": {},
     "output_type": "execute_result"
    }
   ],
   "source": [
    "#### 16. Subtract the mean of each row of a matrix (★★☆)\n",
    "#`hint: mean(axis=,keepdims=)\n",
    "l = np.random.random ((3,4))\n",
    "l"
   ]
  },
  {
   "cell_type": "code",
   "execution_count": 59,
   "id": "46269b79",
   "metadata": {},
   "outputs": [
    {
     "data": {
      "text/plain": [
       "array([[ 0.37736835, -0.27162152, -0.2142073 ,  0.10846047],\n",
       "       [-0.05041067, -0.06738614,  0.16576293, -0.04796612],\n",
       "       [-0.34374741,  0.39069726,  0.35016507, -0.39711492]])"
      ]
     },
     "execution_count": 59,
     "metadata": {},
     "output_type": "execute_result"
    }
   ],
   "source": [
    "m = l - l.mean (axis=1,keepdims=True)\n",
    "m"
   ]
  },
  {
   "cell_type": "code",
   "execution_count": 66,
   "id": "f5612de7",
   "metadata": {},
   "outputs": [
    {
     "data": {
      "text/plain": [
       "array([4588, 3792, 6628, 3255, 5361])"
      ]
     },
     "execution_count": 66,
     "metadata": {},
     "output_type": "execute_result"
    }
   ],
   "source": [
    "#### 17. How to get the n largest values of an array (★★★)\n",
    "Z = np.arange(10000)\n",
    "np.random.shuffle(Z)\n",
    "n = 5\n",
    "#hint: np.argsort | np.argpartition\n",
    "Z_sorted = np.argsort(Z)\n",
    "rslt = Z_sorted[-n : ]\n",
    "rslt"
   ]
  },
  {
   "cell_type": "code",
   "execution_count": 69,
   "id": "65cc0b0a",
   "metadata": {},
   "outputs": [
    {
     "data": {
      "text/plain": [
       "array([[0.38571272, 0.12398935, 0.04950723],\n",
       "       [0.46713046, 0.0780621 , 0.71792196],\n",
       "       [0.28625629, 0.00205823, 0.29556239],\n",
       "       [0.57538797, 0.06187049, 0.17771021],\n",
       "       [0.81848275, 0.96938867, 0.00366402]])"
      ]
     },
     "execution_count": 69,
     "metadata": {},
     "output_type": "execute_result"
    }
   ],
   "source": [
    "#### 18. Create a random 5*3 matrix and replace items that are larger than 4 by their squares ( Example:  6 --> 36) \n",
    "#`hint: np.where`\n",
    "k = np.random.random ((5,3))\n",
    "np.where(k > 4, k, k**2)"
   ]
  },
  {
   "cell_type": "code",
   "execution_count": null,
   "id": "84e85159",
   "metadata": {},
   "outputs": [],
   "source": []
  }
 ],
 "metadata": {
  "kernelspec": {
   "display_name": "Python 3 (ipykernel)",
   "language": "python",
   "name": "python3"
  },
  "language_info": {
   "codemirror_mode": {
    "name": "ipython",
    "version": 3
   },
   "file_extension": ".py",
   "mimetype": "text/x-python",
   "name": "python",
   "nbconvert_exporter": "python",
   "pygments_lexer": "ipython3",
   "version": "3.9.13"
  }
 },
 "nbformat": 4,
 "nbformat_minor": 5
}

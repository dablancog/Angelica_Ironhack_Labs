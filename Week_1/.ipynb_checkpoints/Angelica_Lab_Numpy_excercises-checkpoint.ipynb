{
 "cells": [
  {
   "cell_type": "code",
   "execution_count": 2,
   "id": "67d4e357",
   "metadata": {},
   "outputs": [],
   "source": [
    "#### 1. Import the numpy package under the name `np` (★☆☆)\n",
    "#`hint: import … as`\n",
    "import numpy as np"
   ]
  },
  {
   "cell_type": "code",
   "execution_count": 3,
   "id": "9d40e0d1",
   "metadata": {},
   "outputs": [
    {
     "name": "stdout",
     "output_type": "stream",
     "text": [
      "[0. 0. 0. 0. 0. 0. 0. 0. 0. 0.]\n"
     ]
    }
   ],
   "source": [
    "#### 2. Create a null vector of size 10 (★☆☆)\n",
    "#`hint: np.zeros`\n",
    "a = np.zeros(10)\n",
    "print(a)"
   ]
  },
  {
   "cell_type": "code",
   "execution_count": 4,
   "id": "dcd8a5aa",
   "metadata": {},
   "outputs": [
    {
     "name": "stdout",
     "output_type": "stream",
     "text": [
      "[0. 0. 0. 0. 1. 0. 0. 0. 0. 0.]\n"
     ]
    }
   ],
   "source": [
    "#### 3. Create a null vector of size 10 but the fifth value which is 1 (★☆☆)\n",
    "#`hint: array[4]`\n",
    "a[4] = 1\n",
    "print (a)"
   ]
  },
  {
   "cell_type": "code",
   "execution_count": 5,
   "id": "f4dbf5b5",
   "metadata": {},
   "outputs": [
    {
     "data": {
      "text/plain": [
       "array([10, 11, 12, 13, 14, 15, 16, 17, 18, 19, 20, 21, 22, 23, 24, 25, 26,\n",
       "       27, 28, 29, 30, 31, 32, 33, 34, 35, 36, 37, 38, 39, 40, 41, 42, 43,\n",
       "       44, 45, 46, 47, 48, 49])"
      ]
     },
     "execution_count": 5,
     "metadata": {},
     "output_type": "execute_result"
    }
   ],
   "source": [
    "#### 4. Create a vector with values ranging from 10 to 49 (★☆☆)\n",
    "#`hint: arange`\n",
    "np.arange(10, 50)"
   ]
  },
  {
   "cell_type": "code",
   "execution_count": 6,
   "id": "218f3c70",
   "metadata": {},
   "outputs": [
    {
     "name": "stdout",
     "output_type": "stream",
     "text": [
      "[[0 1 2]\n",
      " [3 4 5]\n",
      " [6 7 8]]\n"
     ]
    }
   ],
   "source": [
    "#### 5. Create a 3x3 matrix with values ranging from 0 to 8 (★☆☆)\n",
    "#`hint: reshape`\n",
    "grid = np.arange(0, 9).reshape((3, 3)) # making it a matrix 3 rows 3 colums dimension\n",
    "print(grid)"
   ]
  },
  {
   "cell_type": "code",
   "execution_count": 7,
   "id": "92d78489",
   "metadata": {},
   "outputs": [
    {
     "data": {
      "text/plain": [
       "(array([0, 1, 4]),)"
      ]
     },
     "execution_count": 7,
     "metadata": {},
     "output_type": "execute_result"
    }
   ],
   "source": [
    "#### 6. Find indices of non-zero elements from [1,2,0,0,4,0] (★☆☆)\n",
    "#`hint: np.nonzero`\n",
    "b = [1,2,0,0,4,0]\n",
    "np.nonzero (b)"
   ]
  },
  {
   "cell_type": "code",
   "execution_count": 8,
   "id": "f310a0da",
   "metadata": {},
   "outputs": [
    {
     "name": "stdout",
     "output_type": "stream",
     "text": [
      "[[1. 0. 0.]\n",
      " [0. 1. 0.]\n",
      " [0. 0. 1.]]\n"
     ]
    }
   ],
   "source": [
    "#### 7. Create a 3x3 identity matrix (★☆☆)\n",
    "#`hint: np.eye`\n",
    "c = np.eye (3,3)\n",
    "print (c)"
   ]
  },
  {
   "cell_type": "code",
   "execution_count": 9,
   "id": "8b667d50",
   "metadata": {},
   "outputs": [
    {
     "data": {
      "text/plain": [
       "array([[[6.74333025e-01, 3.25372108e-01, 6.81720653e-01],\n",
       "        [7.15516102e-01, 7.60873222e-01, 7.77964511e-01],\n",
       "        [9.54919209e-01, 3.02079738e-01, 2.52140820e-01]],\n",
       "\n",
       "       [[6.89893906e-01, 8.84989588e-01, 1.55877269e-01],\n",
       "        [6.35043966e-01, 4.30543032e-01, 6.74372151e-01],\n",
       "        [9.35772842e-01, 7.17601512e-02, 4.61753965e-04]],\n",
       "\n",
       "       [[3.51064037e-01, 4.87068988e-01, 4.99164310e-01],\n",
       "        [3.02530215e-01, 2.50986440e-01, 7.02857435e-01],\n",
       "        [1.63433454e-01, 8.45631007e-01, 1.03887093e-01]]])"
      ]
     },
     "execution_count": 9,
     "metadata": {},
     "output_type": "execute_result"
    }
   ],
   "source": [
    "#### 8. Create a 3x3x3 array with random values (★☆☆)\n",
    "#`hint: np.random.random`\n",
    "np.random.random ((3,3,3))"
   ]
  },
  {
   "cell_type": "code",
   "execution_count": 10,
   "id": "c9d8807b",
   "metadata": {},
   "outputs": [
    {
     "name": "stdout",
     "output_type": "stream",
     "text": [
      "[[0.99020309 0.86374472 0.62627634 0.39084451 0.89025619 0.4646976\n",
      "  0.8278434  0.27095399 0.31218037 0.80938454]\n",
      " [0.610126   0.76881824 0.06197998 0.57309451 0.15424914 0.41588253\n",
      "  0.19412552 0.07213951 0.75891668 0.24213441]\n",
      " [0.89613803 0.82901632 0.57756906 0.7484569  0.70755168 0.47340494\n",
      "  0.89956629 0.04236212 0.91583221 0.59810841]\n",
      " [0.74950463 0.74259011 0.18234164 0.75134091 0.59454378 0.98056505\n",
      "  0.01182691 0.32496185 0.18370499 0.27650455]\n",
      " [0.13268446 0.69815494 0.5835767  0.18953921 0.73658234 0.29063573\n",
      "  0.25779865 0.73960673 0.52705707 0.05654636]\n",
      " [0.8880243  0.37936638 0.43716198 0.40007801 0.53938231 0.65688433\n",
      "  0.30494355 0.75094877 0.92051335 0.39295498]\n",
      " [0.92630327 0.68382394 0.6415839  0.34356952 0.15312194 0.81239556\n",
      "  0.72989807 0.01458518 0.3695242  0.38920095]\n",
      " [0.92729602 0.21359061 0.45736551 0.62172391 0.36767763 0.36975289\n",
      "  0.83269543 0.88698026 0.53929813 0.98818664]\n",
      " [0.17973809 0.16095887 0.58674074 0.40967136 0.73987176 0.85093982\n",
      "  0.92272787 0.77502298 0.70166974 0.99293114]\n",
      " [0.54238857 0.00516525 0.88595404 0.46394431 0.83316258 0.35474624\n",
      "  0.7381281  0.09629501 0.84903716 0.63165392]]\n",
      "0.005165252434818801\n",
      "0.992931137208898\n"
     ]
    }
   ],
   "source": [
    "#### 9. Create a 10x10 array with random values and find the minimum and maximum values (★☆☆)\n",
    "#`hint: min, max`\n",
    "d = np.random.random ((10,10))\n",
    "mi = np.min (d)\n",
    "ma = np.max (d)\n",
    "print (d)\n",
    "print (mi)\n",
    "print (ma)"
   ]
  },
  {
   "cell_type": "code",
   "execution_count": 11,
   "id": "99430483",
   "metadata": {},
   "outputs": [
    {
     "name": "stdout",
     "output_type": "stream",
     "text": [
      "[[0.1993863  0.88766483 0.18496058 0.49065506 0.54218279 0.10255899\n",
      "  0.40336988 0.15007443 0.48919292 0.34479647 0.53593842 0.63469607\n",
      "  0.88641145 0.61187837 0.83150203 0.35221676 0.6913369  0.46197284\n",
      "  0.43948454 0.73203887 0.28303209 0.57136727 0.06269176 0.73342148\n",
      "  0.1920139  0.11801618 0.41973819 0.75979766 0.83127224 0.10092983]]\n",
      "0.4681533032182004\n"
     ]
    }
   ],
   "source": [
    "#### 10. Create a random vector of size 30 and find the mean value (★☆☆)\n",
    "#`hint: mean`\n",
    "e = np.random.random((1,30))\n",
    "mean = np.mean (e)\n",
    "print (e)\n",
    "print (mean)"
   ]
  },
  {
   "cell_type": "code",
   "execution_count": 12,
   "id": "0a9d724b",
   "metadata": {},
   "outputs": [
    {
     "name": "stdout",
     "output_type": "stream",
     "text": [
      "[[0. 0. 0. 0. 0.]\n",
      " [0. 0. 0. 0. 0.]\n",
      " [0. 0. 0. 0. 0.]\n",
      " [0. 0. 0. 0. 0.]\n",
      " [0. 0. 0. 0. 0.]]\n"
     ]
    }
   ],
   "source": [
    "#### 11. Create a 5x5 matrix with values 1,2,3,4 just below the diagonal (★☆☆)\n",
    "#`hint: np.diag`\n",
    "f = np.zeros((5,5))\n",
    "print (f)"
   ]
  },
  {
   "cell_type": "code",
   "execution_count": 13,
   "id": "13fa5616",
   "metadata": {},
   "outputs": [
    {
     "data": {
      "text/plain": [
       "array([0., 0., 0., 0.])"
      ]
     },
     "execution_count": 13,
     "metadata": {},
     "output_type": "execute_result"
    }
   ],
   "source": [
    "diag_f = [1,2,3,4]\n",
    "np.diag(f, 1)"
   ]
  },
  {
   "cell_type": "code",
   "execution_count": 14,
   "id": "9f32ebf7",
   "metadata": {},
   "outputs": [
    {
     "name": "stdout",
     "output_type": "stream",
     "text": [
      "[[0. 0. 0. 0. 0.]\n",
      " [1. 0. 0. 0. 0.]\n",
      " [0. 2. 0. 0. 0.]\n",
      " [0. 0. 3. 0. 0.]\n",
      " [0. 0. 0. 4. 0.]]\n"
     ]
    }
   ],
   "source": [
    "np.fill_diagonal(f[1:], diag_f)\n",
    "print (f)"
   ]
  },
  {
   "cell_type": "code",
   "execution_count": 15,
   "id": "ec6c1a8a",
   "metadata": {},
   "outputs": [
    {
     "name": "stdout",
     "output_type": "stream",
     "text": [
      "[[0 0 0 0 0]\n",
      " [1 0 0 0 0]\n",
      " [0 2 0 0 0]\n",
      " [0 0 3 0 0]\n",
      " [0 0 0 4 0]]\n"
     ]
    }
   ],
   "source": [
    "g = np.diag(np.arange(1,5),-1)\n",
    "print (g)"
   ]
  },
  {
   "cell_type": "code",
   "execution_count": 16,
   "id": "4de93dd8",
   "metadata": {},
   "outputs": [
    {
     "name": "stdout",
     "output_type": "stream",
     "text": [
      "Help on function diag in module numpy:\n",
      "\n",
      "diag(v, k=0)\n",
      "    Extract a diagonal or construct a diagonal array.\n",
      "    \n",
      "    See the more detailed documentation for ``numpy.diagonal`` if you use this\n",
      "    function to extract a diagonal and wish to write to the resulting array;\n",
      "    whether it returns a copy or a view depends on what version of numpy you\n",
      "    are using.\n",
      "    \n",
      "    Parameters\n",
      "    ----------\n",
      "    v : array_like\n",
      "        If `v` is a 2-D array, return a copy of its `k`-th diagonal.\n",
      "        If `v` is a 1-D array, return a 2-D array with `v` on the `k`-th\n",
      "        diagonal.\n",
      "    k : int, optional\n",
      "        Diagonal in question. The default is 0. Use `k>0` for diagonals\n",
      "        above the main diagonal, and `k<0` for diagonals below the main\n",
      "        diagonal.\n",
      "    \n",
      "    Returns\n",
      "    -------\n",
      "    out : ndarray\n",
      "        The extracted diagonal or constructed diagonal array.\n",
      "    \n",
      "    See Also\n",
      "    --------\n",
      "    diagonal : Return specified diagonals.\n",
      "    diagflat : Create a 2-D array with the flattened input as a diagonal.\n",
      "    trace : Sum along diagonals.\n",
      "    triu : Upper triangle of an array.\n",
      "    tril : Lower triangle of an array.\n",
      "    \n",
      "    Examples\n",
      "    --------\n",
      "    >>> x = np.arange(9).reshape((3,3))\n",
      "    >>> x\n",
      "    array([[0, 1, 2],\n",
      "           [3, 4, 5],\n",
      "           [6, 7, 8]])\n",
      "    \n",
      "    >>> np.diag(x)\n",
      "    array([0, 4, 8])\n",
      "    >>> np.diag(x, k=1)\n",
      "    array([1, 5])\n",
      "    >>> np.diag(x, k=-1)\n",
      "    array([3, 7])\n",
      "    \n",
      "    >>> np.diag(np.diag(x))\n",
      "    array([[0, 0, 0],\n",
      "           [0, 4, 0],\n",
      "           [0, 0, 8]])\n",
      "\n"
     ]
    }
   ],
   "source": [
    "help(np.diag)"
   ]
  },
  {
   "cell_type": "code",
   "execution_count": 35,
   "id": "a5ab5354",
   "metadata": {},
   "outputs": [
    {
     "name": "stdout",
     "output_type": "stream",
     "text": [
      "x [[0.49248349 0.46280385 0.26190499 0.57860189 0.12769585]\n",
      " [0.81774095 0.27554912 0.71407919 0.94794189 0.86028453]\n",
      " [0.8353774  0.91532042 0.6909823  0.01741026 0.71380697]\n",
      " [0.1412406  0.8082221  0.70847238 0.92760188 0.993987  ]\n",
      " [0.55652396 0.12070325 0.59153894 0.50088774 0.42580312]]\n",
      "normal_x [[-0.30546946 -0.40968483 -1.11510943 -0.00307829 -1.58636364]\n",
      " [ 0.83662074 -1.06720024  0.47262885  1.29380076  0.98600581]\n",
      " [ 0.89854833  1.17925562  0.39152775 -1.97361406  0.471673  ]\n",
      " [-1.53880338  0.8031968   0.45294142  1.22238002  1.4554809 ]\n",
      " [-0.08060144 -1.61091704  0.04234811 -0.27595925 -0.53960704]]\n"
     ]
    }
   ],
   "source": [
    "#### 12. Normalize a 5x5 random matrix (★☆☆)\n",
    "#`hint: (x -mean)/std`\n",
    "x = np.random.random ((5,5))\n",
    "mean = np.mean (x)\n",
    "std = np.std (x)\n",
    "normal_x = (x - mean)/std\n",
    "print ('x', x)\n",
    "print ('normal_x',normal_x)"
   ]
  },
  {
   "cell_type": "code",
   "execution_count": 37,
   "id": "fa279b95",
   "metadata": {},
   "outputs": [
    {
     "data": {
      "text/plain": [
       "array([1, 3, 5])"
      ]
     },
     "execution_count": 37,
     "metadata": {},
     "output_type": "execute_result"
    }
   ],
   "source": [
    "#### 13. How to find common values between two arrays? (★☆☆)\n",
    "#`hint: np.intersect1d`\n",
    "np.intersect1d([1, 3, 4, 5], [3, 1, 5, 1])"
   ]
  },
  {
   "cell_type": "code",
   "execution_count": 17,
   "id": "e88843fa",
   "metadata": {},
   "outputs": [
    {
     "name": "stdout",
     "output_type": "stream",
     "text": [
      "[[0.25189014 0.71086111 0.37984783 0.50666471 0.50694948 0.45569009\n",
      "  0.76748999 0.44716638 0.1247483  0.30773856]]\n"
     ]
    }
   ],
   "source": [
    "#### 14. Create a random vector of size 10 and sort it (★★☆)\n",
    "#`hint: sort`\n",
    "y = np.random.random ((1,10))\n",
    "print (y)"
   ]
  },
  {
   "cell_type": "code",
   "execution_count": 18,
   "id": "d1bb9d08",
   "metadata": {},
   "outputs": [
    {
     "data": {
      "text/plain": [
       "array([[0.1247483 , 0.25189014, 0.30773856, 0.37984783, 0.44716638,\n",
       "        0.45569009, 0.50666471, 0.50694948, 0.71086111, 0.76748999]])"
      ]
     },
     "execution_count": 18,
     "metadata": {},
     "output_type": "execute_result"
    }
   ],
   "source": [
    "np.sort (y)"
   ]
  },
  {
   "cell_type": "code",
   "execution_count": 19,
   "id": "a0e3170a",
   "metadata": {},
   "outputs": [
    {
     "name": "stdout",
     "output_type": "stream",
     "text": [
      "[[0.91171415 0.41162902 0.81423634 0.90620494 0.17667379 0.64268392\n",
      "  0.86918178 0.50261996 0.9563909  0.06966945]]\n",
      "8\n"
     ]
    }
   ],
   "source": [
    "#### 15. Create random vector of size 10 and replace the maximum value by 0 (★★☆)\n",
    "#`hint: argmax`\n",
    "h = np.random.random ((1,10))\n",
    "print (h)\n",
    "print (np.argmax (h))"
   ]
  },
  {
   "cell_type": "code",
   "execution_count": 20,
   "id": "73f8a7d6",
   "metadata": {},
   "outputs": [
    {
     "data": {
      "text/plain": [
       "array([[0.91171415, 0.41162902, 0.81423634, 0.90620494, 0.17667379,\n",
       "        0.64268392, 0.86918178, 0.50261996, 0.9563909 , 0.        ]])"
      ]
     },
     "execution_count": 20,
     "metadata": {},
     "output_type": "execute_result"
    }
   ],
   "source": [
    "h[0,9] = 0\n",
    "h"
   ]
  },
  {
   "cell_type": "code",
   "execution_count": 22,
   "id": "3f5fee10",
   "metadata": {},
   "outputs": [
    {
     "data": {
      "text/plain": [
       "array([[0.66793672, 0.80862872, 0.26896033, 0.53232684],\n",
       "       [0.03081691, 0.63498142, 0.14868841, 0.90207648],\n",
       "       [0.6365916 , 0.16817391, 0.05577547, 0.12788579]])"
      ]
     },
     "execution_count": 22,
     "metadata": {},
     "output_type": "execute_result"
    }
   ],
   "source": [
    "#### 16. Subtract the mean of each row of a matrix (★★☆)\n",
    "#`hint: mean(axis=,keepdims=)\n",
    "l = np.random.random ((3,4))\n",
    "l"
   ]
  },
  {
   "cell_type": "code",
   "execution_count": 30,
   "id": "46269b79",
   "metadata": {},
   "outputs": [
    {
     "data": {
      "text/plain": [
       "array([[ 0.09847357,  0.23916557, -0.30050282, -0.03713632],\n",
       "       [-0.3983239 ,  0.20584062, -0.28045239,  0.47293567],\n",
       "       [ 0.38948491, -0.07893278, -0.19133122, -0.1192209 ]])"
      ]
     },
     "execution_count": 30,
     "metadata": {},
     "output_type": "execute_result"
    }
   ],
   "source": [
    "m = l - l.mean (axis=1,keepdims=True) # axis = 0 is colums and axis = 1 is rows - keepdims is keep dimensions\n",
    "m"
   ]
  },
  {
   "cell_type": "code",
   "execution_count": 34,
   "id": "f5612de7",
   "metadata": {},
   "outputs": [
    {
     "name": "stdout",
     "output_type": "stream",
     "text": [
      "[9995 9996 9997 9998 9999]\n"
     ]
    }
   ],
   "source": [
    "#### 17. How to get the n largest values of an array (★★★)\n",
    "#Z = np.arange(10000)\n",
    "#np.random.shuffle(Z)\n",
    "#n = 5\n",
    "#hint: np.argsort | np.argpartition\n",
    "Z = np.arange(10000)\n",
    "np.random.shuffle(Z)\n",
    "n = 5\n",
    "print (Z[np.argsort(Z)[-n : ]]) # argsort doesn't give you the sorted values but it gives you the index of the sorted values"
   ]
  },
  {
   "cell_type": "code",
   "execution_count": 69,
   "id": "65cc0b0a",
   "metadata": {},
   "outputs": [
    {
     "data": {
      "text/plain": [
       "array([[0.38571272, 0.12398935, 0.04950723],\n",
       "       [0.46713046, 0.0780621 , 0.71792196],\n",
       "       [0.28625629, 0.00205823, 0.29556239],\n",
       "       [0.57538797, 0.06187049, 0.17771021],\n",
       "       [0.81848275, 0.96938867, 0.00366402]])"
      ]
     },
     "execution_count": 69,
     "metadata": {},
     "output_type": "execute_result"
    }
   ],
   "source": [
    "#### 18. Create a random 5*3 matrix and replace items that are larger than 4 by their squares ( Example:  6 --> 36) \n",
    "#`hint: np.where`\n",
    "k = np.random.random ((5,3))\n",
    "np.where(k > 4, k, k**2)"
   ]
  },
  {
   "cell_type": "code",
   "execution_count": null,
   "id": "84e85159",
   "metadata": {},
   "outputs": [],
   "source": []
  }
 ],
 "metadata": {
  "kernelspec": {
   "display_name": "Python 3 (ipykernel)",
   "language": "python",
   "name": "python3"
  },
  "language_info": {
   "codemirror_mode": {
    "name": "ipython",
    "version": 3
   },
   "file_extension": ".py",
   "mimetype": "text/x-python",
   "name": "python",
   "nbconvert_exporter": "python",
   "pygments_lexer": "ipython3",
   "version": "3.9.13"
  }
 },
 "nbformat": 4,
 "nbformat_minor": 5
}

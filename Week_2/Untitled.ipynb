{
 "cells": [
  {
   "cell_type": "code",
   "execution_count": 1,
   "id": "c878078a",
   "metadata": {},
   "outputs": [],
   "source": [
    "import pandas as pd\n",
    "\n",
    "# create a sample DataFrame\n",
    "df = pd.DataFrame({'Column1': ['10%', '%20', '3%0A', '40%', '50%']})"
   ]
  },
  {
   "cell_type": "code",
   "execution_count": 2,
   "id": "7016c803",
   "metadata": {},
   "outputs": [
    {
     "data": {
      "text/plain": [
       "5"
      ]
     },
     "execution_count": 2,
     "metadata": {},
     "output_type": "execute_result"
    }
   ],
   "source": [
    "count = df['Column1'].str.contains('%').sum()\n",
    "count"
   ]
  },
  {
   "cell_type": "code",
   "execution_count": 3,
   "id": "d3d9ae26",
   "metadata": {},
   "outputs": [
    {
     "name": "stdout",
     "output_type": "stream",
     "text": [
      "  Column1\n",
      "0      10\n",
      "1      20\n",
      "2    3%0A\n",
      "3     4%4\n",
      "4     5%5\n"
     ]
    }
   ],
   "source": [
    "df2 = pd.DataFrame({'Column1': ['10%', '%20', '3%0A', '4%4', '5%5']})\n",
    "df2['Column1'] = df2['Column1'].str.strip('%')\n",
    "\n",
    "# Output the updated DataFrame\n",
    "print(df2)"
   ]
  },
  {
   "cell_type": "code",
   "execution_count": 4,
   "id": "192fe8c4",
   "metadata": {},
   "outputs": [
    {
     "name": "stdout",
     "output_type": "stream",
     "text": [
      "  Column1\n",
      "0      10\n",
      "1      20\n",
      "2    3%0A\n",
      "3       4\n",
      "4       5\n"
     ]
    }
   ],
   "source": [
    "df3 = pd.DataFrame({'Column1': ['10%', '%20', '3%0A', '%4', '%5']})\n",
    "df3['Column1'] = df3['Column1'].str.strip('%')\n",
    "\n",
    "# Output the updated DataFrame\n",
    "print(df3)"
   ]
  },
  {
   "cell_type": "code",
   "execution_count": null,
   "id": "e3fe7d30",
   "metadata": {},
   "outputs": [],
   "source": []
  }
 ],
 "metadata": {
  "kernelspec": {
   "display_name": "Python 3 (ipykernel)",
   "language": "python",
   "name": "python3"
  },
  "language_info": {
   "codemirror_mode": {
    "name": "ipython",
    "version": 3
   },
   "file_extension": ".py",
   "mimetype": "text/x-python",
   "name": "python",
   "nbconvert_exporter": "python",
   "pygments_lexer": "ipython3",
   "version": "3.9.13"
  }
 },
 "nbformat": 4,
 "nbformat_minor": 5
}
